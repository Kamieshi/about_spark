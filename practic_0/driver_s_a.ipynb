{
 "cells": [
  {
   "cell_type": "code",
   "execution_count": 1,
   "metadata": {
    "collapsed": true,
    "pycharm": {
     "name": "#%%\n"
    }
   },
   "outputs": [],
   "source": [
    "from pyspark.sql import SparkSession"
   ]
  },
  {
   "cell_type": "code",
   "execution_count": 2,
   "outputs": [
    {
     "name": "stdout",
     "output_type": "stream",
     "text": [
      "22/09/08 10:00:29 WARN Utils: Your hostname, esw287 resolves to a loopback address: 127.0.1.1; using 192.168.1.81 instead (on interface enp2s0)\n",
      "22/09/08 10:00:29 WARN Utils: Set SPARK_LOCAL_IP if you need to bind to another address\n"
     ]
    },
    {
     "name": "stderr",
     "output_type": "stream",
     "text": [
      "Setting default log level to \"WARN\".\n",
      "To adjust logging level use sc.setLogLevel(newLevel). For SparkR, use setLogLevel(newLevel).\n"
     ]
    },
    {
     "name": "stdout",
     "output_type": "stream",
     "text": [
      "22/09/08 10:00:49 WARN NativeCodeLoader: Unable to load native-hadoop library for your platform... using builtin-java classes where applicable\n"
     ]
    }
   ],
   "source": [
    "session = (\n",
    "    SparkSession\n",
    "    .builder\n",
    "    .master(\"spark://127.0.0.1:7077\")\n",
    "    .appName(\"Test Driver s_a\")\n",
    "    .config(\"spark.executor.cores\", \"1\")\n",
    "    .getOrCreate()\n",
    ")"
   ],
   "metadata": {
    "collapsed": false,
    "pycharm": {
     "name": "#%%\n"
    }
   }
  },
  {
   "cell_type": "markdown",
   "source": [],
   "metadata": {
    "collapsed": false,
    "pycharm": {
     "name": "#%% md\n"
    }
   }
  },
  {
   "cell_type": "code",
   "execution_count": 30,
   "outputs": [],
   "source": [
    "first_rdd = session.sparkContext.parallelize(list(range(100)))"
   ],
   "metadata": {
    "collapsed": false,
    "pycharm": {
     "name": "#%%\n"
    }
   }
  },
  {
   "cell_type": "code",
   "execution_count": 31,
   "outputs": [
    {
     "data": {
      "text/plain": "6"
     },
     "execution_count": 31,
     "metadata": {},
     "output_type": "execute_result"
    }
   ],
   "source": [
    "first_rdd.getNumPartitions()"
   ],
   "metadata": {
    "collapsed": false,
    "pycharm": {
     "name": "#%%\n"
    }
   }
  },
  {
   "cell_type": "code",
   "execution_count": 32,
   "outputs": [
    {
     "data": {
      "text/plain": "[[0, 1, 2, 3, 4, 5, 6, 7, 8, 9, 10, 11, 12, 13, 14, 15],\n [16, 17, 18, 19, 20, 21, 22, 23, 24, 25, 26, 27, 28, 29, 30, 31],\n [32, 33, 34, 35, 36, 37, 38, 39, 40, 41, 42, 43, 44, 45, 46, 47],\n [48, 49, 50, 51, 52, 53, 54, 55, 56, 57, 58, 59, 60, 61, 62, 63],\n [64, 65, 66, 67, 68, 69, 70, 71, 72, 73, 74, 75, 76, 77, 78, 79],\n [80,\n  81,\n  82,\n  83,\n  84,\n  85,\n  86,\n  87,\n  88,\n  89,\n  90,\n  91,\n  92,\n  93,\n  94,\n  95,\n  96,\n  97,\n  98,\n  99]]"
     },
     "execution_count": 32,
     "metadata": {},
     "output_type": "execute_result"
    }
   ],
   "source": [
    "first_rdd.glom().collect()"
   ],
   "metadata": {
    "collapsed": false,
    "pycharm": {
     "name": "#%%\n"
    }
   }
  },
  {
   "cell_type": "markdown",
   "source": [],
   "metadata": {
    "collapsed": false,
    "pycharm": {
     "name": "#%% md\n"
    }
   }
  },
  {
   "cell_type": "code",
   "execution_count": null,
   "outputs": [],
   "source": [],
   "metadata": {
    "collapsed": false,
    "pycharm": {
     "name": "#%%\n"
    }
   }
  },
  {
   "cell_type": "code",
   "execution_count": 41,
   "outputs": [],
   "source": [
    "second_rdd = first_rdd.map(lambda x: (x % 2, x)).partitionBy(2)"
   ],
   "metadata": {
    "collapsed": false,
    "pycharm": {
     "name": "#%%\n"
    }
   }
  },
  {
   "cell_type": "code",
   "execution_count": 42,
   "outputs": [
    {
     "data": {
      "text/plain": "2"
     },
     "execution_count": 42,
     "metadata": {},
     "output_type": "execute_result"
    }
   ],
   "source": [
    "second_rdd.getNumPartitions()"
   ],
   "metadata": {
    "collapsed": false,
    "pycharm": {
     "name": "#%%\n"
    }
   }
  },
  {
   "cell_type": "code",
   "execution_count": 43,
   "outputs": [
    {
     "data": {
      "text/plain": "[[(0, 16),\n  (0, 18),\n  (0, 20),\n  (0, 22),\n  (0, 24),\n  (0, 26),\n  (0, 28),\n  (0, 30),\n  (0, 48),\n  (0, 50),\n  (0, 52),\n  (0, 54),\n  (0, 56),\n  (0, 58),\n  (0, 60),\n  (0, 62),\n  (0, 32),\n  (0, 34),\n  (0, 36),\n  (0, 38),\n  (0, 40),\n  (0, 42),\n  (0, 44),\n  (0, 46),\n  (0, 64),\n  (0, 66),\n  (0, 68),\n  (0, 70),\n  (0, 72),\n  (0, 74),\n  (0, 76),\n  (0, 78),\n  (0, 80),\n  (0, 82),\n  (0, 84),\n  (0, 86),\n  (0, 88),\n  (0, 90),\n  (0, 92),\n  (0, 94),\n  (0, 96),\n  (0, 98),\n  (0, 0),\n  (0, 2),\n  (0, 4),\n  (0, 6),\n  (0, 8),\n  (0, 10),\n  (0, 12),\n  (0, 14)],\n [(1, 49),\n  (1, 51),\n  (1, 53),\n  (1, 55),\n  (1, 57),\n  (1, 59),\n  (1, 61),\n  (1, 63),\n  (1, 1),\n  (1, 3),\n  (1, 5),\n  (1, 7),\n  (1, 9),\n  (1, 11),\n  (1, 13),\n  (1, 15),\n  (1, 81),\n  (1, 83),\n  (1, 85),\n  (1, 87),\n  (1, 89),\n  (1, 91),\n  (1, 93),\n  (1, 95),\n  (1, 97),\n  (1, 99),\n  (1, 65),\n  (1, 67),\n  (1, 69),\n  (1, 71),\n  (1, 73),\n  (1, 75),\n  (1, 77),\n  (1, 79),\n  (1, 33),\n  (1, 35),\n  (1, 37),\n  (1, 39),\n  (1, 41),\n  (1, 43),\n  (1, 45),\n  (1, 47),\n  (1, 17),\n  (1, 19),\n  (1, 21),\n  (1, 23),\n  (1, 25),\n  (1, 27),\n  (1, 29),\n  (1, 31)]]"
     },
     "execution_count": 43,
     "metadata": {},
     "output_type": "execute_result"
    }
   ],
   "source": [
    "second_rdd.glom().collect()"
   ],
   "metadata": {
    "collapsed": false,
    "pycharm": {
     "name": "#%%\n"
    }
   }
  },
  {
   "cell_type": "code",
   "execution_count": 44,
   "outputs": [],
   "source": [
    "session.stop()"
   ],
   "metadata": {
    "collapsed": false,
    "pycharm": {
     "name": "#%%\n"
    }
   }
  },
  {
   "cell_type": "code",
   "execution_count": null,
   "outputs": [],
   "source": [],
   "metadata": {
    "collapsed": false,
    "pycharm": {
     "name": "#%%\n"
    }
   }
  }
 ],
 "metadata": {
  "kernelspec": {
   "display_name": "Python 3",
   "language": "python",
   "name": "python3"
  },
  "language_info": {
   "codemirror_mode": {
    "name": "ipython",
    "version": 2
   },
   "file_extension": ".py",
   "mimetype": "text/x-python",
   "name": "python",
   "nbconvert_exporter": "python",
   "pygments_lexer": "ipython2",
   "version": "2.7.6"
  }
 },
 "nbformat": 4,
 "nbformat_minor": 0
}