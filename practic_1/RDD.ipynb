{
 "cells": [
  {
   "cell_type": "code",
   "execution_count": 2,
   "metadata": {
    "collapsed": true,
    "pycharm": {
     "name": "#%%\n"
    }
   },
   "outputs": [],
   "source": [
    "from pyspark.sql import SparkSession"
   ]
  },
  {
   "cell_type": "code",
   "execution_count": 3,
   "metadata": {
    "pycharm": {
     "name": "#%%\n"
    }
   },
   "outputs": [
    {
     "name": "stdout",
     "output_type": "stream",
     "text": [
      "22/09/08 10:36:00 WARN Utils: Your hostname, esw287 resolves to a loopback address: 127.0.1.1; using 192.168.1.81 instead (on interface enp2s0)\n",
      "22/09/08 10:36:00 WARN Utils: Set SPARK_LOCAL_IP if you need to bind to another address\n"
     ]
    },
    {
     "name": "stderr",
     "output_type": "stream",
     "text": [
      "Setting default log level to \"WARN\".\n",
      "To adjust logging level use sc.setLogLevel(newLevel). For SparkR, use setLogLevel(newLevel).\n"
     ]
    },
    {
     "name": "stdout",
     "output_type": "stream",
     "text": [
      "22/09/08 10:36:01 WARN NativeCodeLoader: Unable to load native-hadoop library for your platform... using builtin-java classes where applicable\n"
     ]
    }
   ],
   "source": [
    "session = (\n",
    "    SparkSession\n",
    "    .builder\n",
    "    .master(\"local[*]\")\n",
    "    .appName(\"Driver pr_1\")\n",
    "    .getOrCreate()\n",
    ")"
   ]
  },
  {
   "cell_type": "code",
   "execution_count": 4,
   "metadata": {
    "pycharm": {
     "name": "#%%\n"
    }
   },
   "outputs": [],
   "source": [
    "rdd_set = session.sparkContext.textFile(\"./input_data.txt\").filter(lambda x:x!=\"\")"
   ]
  },
  {
   "cell_type": "code",
   "execution_count": 5,
   "metadata": {
    "pycharm": {
     "name": "#%%\n"
    }
   },
   "outputs": [
    {
     "name": "stderr",
     "output_type": "stream",
     "text": [
      "                                                                                \r"
     ]
    },
    {
     "data": {
      "text/plain": "55"
     },
     "execution_count": 5,
     "metadata": {},
     "output_type": "execute_result"
    }
   ],
   "source": [
    "rdd_set.count()"
   ]
  },
  {
   "cell_type": "code",
   "execution_count": 6,
   "metadata": {
    "pycharm": {
     "name": "#%%\n"
    }
   },
   "outputs": [
    {
     "data": {
      "text/plain": "['Lorem ipsum dolor sit amet, consectetur adipiscing elit. Nunc vitae tempor tortor. Suspendisse nec ultrices ex. Etiam non egestas mi. Nulla ipsum massa, auctor et accumsan id, fringilla in tortor. Nulla hendrerit lectus nec enim fermentum consequat. Maecenas ac metus eget nulla viverra elementum. Suspendisse euismod eget risus id varius. Sed scelerisque, justo et luctus cursus, eros tortor commodo nulla, ac volutpat mi ante et justo.',\n 'Duis dui tellus, blandit accumsan egestas at, bibendum porttitor nulla. Ut vestibulum purus purus, eget semper ante bibendum at. Nunc molestie purus quam, vitae ullamcorper eros lobortis sit amet. Donec in est ut mi faucibus semper eu vitae sem. Praesent efficitur dignissim erat, sit amet rutrum tortor pharetra sit amet. Duis ut consequat lacus. Phasellus tincidunt, purus ut iaculis malesuada, risus magna volutpat sem, ac efficitur mauris massa malesuada enim. Etiam ac consequat augue. In vitae ligula ultricies, gravida quam id, varius massa. Quisque ut scelerisque nisl.',\n 'Proin aliquet rutrum ligula in cursus. Mauris scelerisque sagittis odio. Duis nunc velit, lacinia vel arcu id, commodo scelerisque ligula. Proin at augue tortor. Orci varius natoque penatibus et magnis dis parturient montes, nascetur ridiculus mus. Nam ullamcorper velit a sapien vestibulum, eu mollis dui faucibus. Nam vestibulum justo id nisl convallis mollis. Sed facilisis diam id tellus commodo feugiat. Pellentesque ultrices, tortor id feugiat vulputate, sapien erat ullamcorper ante, ut mattis magna lectus feugiat tortor. In efficitur mollis libero, et convallis odio ullamcorper varius. Cras fermentum, eros ac dignissim molestie, nibh arcu maximus ipsum, eget gravida lacus tortor nec neque.']"
     },
     "execution_count": 6,
     "metadata": {},
     "output_type": "execute_result"
    }
   ],
   "source": [
    "rdd_set.take(3)"
   ]
  },
  {
   "cell_type": "code",
   "execution_count": 7,
   "metadata": {
    "pycharm": {
     "name": "#%%\n"
    }
   },
   "outputs": [
    {
     "data": {
      "text/plain": "['Lorem',\n 'ipsum',\n 'dolor',\n 'sit',\n 'amet,',\n 'consectetur',\n 'adipiscing',\n 'elit.',\n 'Nunc',\n 'vitae',\n 'tempor',\n 'tortor.',\n 'Suspendisse',\n 'nec',\n 'ultrices',\n 'ex.',\n 'Etiam',\n 'non',\n 'egestas',\n 'mi.',\n 'Nulla',\n 'ipsum',\n 'massa,',\n 'auctor',\n 'accumsan',\n 'id,',\n 'fringilla',\n 'tortor.',\n 'Nulla',\n 'hendrerit',\n 'lectus',\n 'nec',\n 'enim',\n 'fermentum',\n 'consequat.',\n 'Maecenas',\n 'metus',\n 'eget',\n 'nulla',\n 'viverra',\n 'elementum.',\n 'Suspendisse',\n 'euismod',\n 'eget',\n 'risus',\n 'varius.',\n 'Sed',\n 'scelerisque,',\n 'justo',\n 'luctus',\n 'cursus,',\n 'eros',\n 'tortor',\n 'commodo',\n 'nulla,',\n 'volutpat',\n 'ante',\n 'justo.',\n 'Duis',\n 'dui',\n 'tellus,',\n 'blandit',\n 'accumsan',\n 'egestas',\n 'at,',\n 'bibendum',\n 'porttitor',\n 'nulla.',\n 'vestibulum',\n 'purus',\n 'purus,',\n 'eget',\n 'semper',\n 'ante',\n 'bibendum',\n 'at.',\n 'Nunc',\n 'molestie',\n 'purus',\n 'quam,',\n 'vitae',\n 'ullamcorper',\n 'eros',\n 'lobortis',\n 'sit',\n 'amet.',\n 'Donec',\n 'est',\n 'faucibus',\n 'semper',\n 'vitae',\n 'sem.',\n 'Praesent',\n 'efficitur',\n 'dignissim',\n 'erat,',\n 'sit',\n 'amet',\n 'rutrum',\n 'tortor',\n 'pharetra',\n 'sit',\n 'amet.',\n 'Duis',\n 'consequat',\n 'lacus.',\n 'Phasellus',\n 'tincidunt,',\n 'purus',\n 'iaculis',\n 'malesuada,',\n 'risus',\n 'magna',\n 'volutpat',\n 'sem,',\n 'efficitur',\n 'mauris',\n 'massa',\n 'malesuada',\n 'enim.',\n 'Etiam',\n 'consequat',\n 'augue.',\n 'vitae',\n 'ligula',\n 'ultricies,',\n 'gravida',\n 'quam',\n 'id,',\n 'varius',\n 'massa.',\n 'Quisque',\n 'scelerisque',\n 'nisl.',\n 'Proin',\n 'aliquet',\n 'rutrum',\n 'ligula',\n 'cursus.',\n 'Mauris',\n 'scelerisque',\n 'sagittis',\n 'odio.',\n 'Duis',\n 'nunc',\n 'velit,',\n 'lacinia',\n 'vel',\n 'arcu',\n 'id,',\n 'commodo',\n 'scelerisque',\n 'ligula.',\n 'Proin',\n 'augue',\n 'tortor.',\n 'Orci',\n 'varius',\n 'natoque',\n 'penatibus',\n 'magnis',\n 'dis',\n 'parturient',\n 'montes,',\n 'nascetur',\n 'ridiculus',\n 'mus.',\n 'Nam',\n 'ullamcorper',\n 'velit',\n 'sapien',\n 'vestibulum,',\n 'mollis',\n 'dui',\n 'faucibus.',\n 'Nam',\n 'vestibulum',\n 'justo',\n 'nisl',\n 'convallis',\n 'mollis.',\n 'Sed',\n 'facilisis',\n 'diam',\n 'tellus',\n 'commodo',\n 'feugiat.',\n 'Pellentesque',\n 'ultrices,',\n 'tortor',\n 'feugiat',\n 'vulputate,',\n 'sapien',\n 'erat',\n 'ullamcorper',\n 'ante,',\n 'mattis',\n 'magna',\n 'lectus',\n 'feugiat',\n 'tortor.',\n 'efficitur',\n 'mollis',\n 'libero,',\n 'convallis',\n 'odio',\n 'ullamcorper',\n 'varius.',\n 'Cras',\n 'fermentum,',\n 'eros',\n 'dignissim',\n 'molestie,',\n 'nibh',\n 'arcu',\n 'maximus',\n 'ipsum,',\n 'eget',\n 'gravida',\n 'lacus',\n 'tortor',\n 'nec',\n 'neque.',\n 'hac',\n 'habitasse',\n 'platea',\n 'dictumst.',\n 'Nulla',\n 'interdum',\n 'est',\n 'nibh,',\n 'euismod',\n 'est',\n 'varius',\n 'vel.',\n 'Nunc',\n 'quis',\n 'tellus',\n 'vitae',\n 'orci',\n 'accumsan',\n 'venenatis.',\n 'Nam',\n 'sed',\n 'nibh',\n 'nec',\n 'tortor',\n 'luctus',\n 'tincidunt',\n 'rhoncus',\n 'orci.',\n 'Integer',\n 'placerat',\n 'nisi',\n 'sed',\n 'erat',\n 'tristique',\n 'dignissim.',\n 'Vestibulum',\n 'pharetra',\n 'egestas',\n 'eros,',\n 'varius',\n 'gravida',\n 'augue',\n 'pulvinar',\n 'in.',\n 'Vivamus',\n 'massa',\n 'vel',\n 'ipsum',\n 'condimentum',\n 'feugiat.',\n 'Sed',\n 'sollicitudin',\n 'tincidunt',\n 'nunc',\n 'mollis.',\n 'Nam',\n 'elementum',\n 'lectus',\n 'nisi,',\n 'ornare',\n 'magna',\n 'convallis',\n 'eget.',\n 'Sed',\n 'massa',\n 'diam,',\n 'pretium',\n 'bibendum',\n 'at,',\n 'dignissim',\n 'sit',\n 'amet',\n 'libero.',\n 'Aenean',\n 'nunc',\n 'augue,',\n 'egestas',\n 'condimentum',\n 'ante',\n 'molestie',\n 'faucibus',\n 'leo.',\n 'Aenean',\n 'scelerisque',\n 'pulvinar',\n 'neque',\n 'quis',\n 'molestie.',\n 'Phasellus',\n 'accumsan',\n 'nibh',\n 'ipsum.',\n 'aliquet',\n 'magna',\n 'metus,',\n 'quis',\n 'gravida',\n 'nulla',\n 'pretium',\n 'et.',\n 'Proin',\n 'lobortis',\n 'dapibus',\n 'sagittis.',\n 'Sed',\n 'finibus',\n 'nisi',\n 'est,',\n 'vel',\n 'accumsan',\n 'nunc',\n 'tempor',\n 'eget.',\n 'Phasellus',\n 'est',\n 'enim,',\n 'ullamcorper',\n 'posuere',\n 'ac,',\n 'laoreet',\n 'sed',\n 'purus.',\n 'Vestibulum',\n 'non',\n 'luctus',\n 'libero.',\n 'Fusce',\n 'elit',\n 'leo,',\n 'tincidunt',\n 'tincidunt',\n 'nec,',\n 'imperdiet',\n 'libero.',\n 'Nullam',\n 'finibus',\n 'velit',\n 'neque',\n 'scelerisque',\n 'dignissim.',\n 'turpis',\n 'ante,',\n 'aliquam',\n 'vulputate',\n 'turpis',\n 'dignissim,',\n 'scelerisque',\n 'imperdiet',\n 'ante.',\n 'Aenean',\n 'dignissim',\n 'nisl,',\n 'eget',\n 'consequat',\n 'ex.',\n 'Interdum',\n 'malesuada',\n 'fames',\n 'ante',\n 'ipsum',\n 'primis',\n 'faucibus.',\n 'Nulla',\n 'convallis',\n 'urna',\n 'fringilla,',\n 'fermentum',\n 'turpis',\n 'ultrices.',\n 'Praesent',\n 'lobortis,',\n 'sit',\n 'amet',\n 'auctor',\n 'molestie,',\n 'ante',\n 'sem',\n 'eleifend',\n 'lectus,',\n 'sed',\n 'luctus',\n 'odio',\n 'nibh',\n 'nisi.',\n 'semper',\n 'urna',\n 'dignissim',\n 'nunc',\n 'tincidunt,',\n 'facilisis',\n 'sapien',\n 'congue.',\n 'Sed',\n 'lacinia',\n 'posuere',\n 'venenatis.',\n 'Aenean',\n 'luctus',\n 'ipsum',\n 'finibus',\n 'bibendum.',\n 'Etiam',\n 'bibendum',\n 'magna,',\n 'dapibus',\n 'tortor',\n 'mollis',\n 'non.',\n 'Suspendisse',\n 'tempus',\n 'tincidunt',\n 'ante',\n 'non',\n 'sagittis.',\n 'Donec',\n 'vulputate',\n 'urna.',\n 'Sed',\n 'commodo',\n 'leo',\n 'sit',\n 'amet',\n 'faucibus.',\n 'Etiam',\n 'rutrum',\n 'arcu',\n 'volutpat,',\n 'laoreet',\n 'sem',\n 'id,',\n 'porta',\n 'dolor.',\n 'Aenean',\n 'vitae',\n 'sapien',\n 'dolor.',\n 'Aenean',\n 'sollicitudin',\n 'gravida',\n 'convallis.',\n 'Lorem',\n 'ipsum',\n 'dolor',\n 'sit',\n 'amet,',\n 'consectetur',\n 'adipiscing',\n 'elit.',\n 'Curabitur',\n 'ultricies',\n 'turpis',\n 'non',\n 'neque',\n 'viverra',\n 'euismod.',\n 'Aliquam',\n 'rutrum',\n 'nunc',\n 'vel',\n 'magna',\n 'fermentum,',\n 'volutpat',\n 'augue',\n 'placerat.',\n 'Vestibulum',\n 'posuere',\n 'placerat',\n 'est,',\n 'quis',\n 'suscipit',\n 'metus',\n 'aliquam',\n 'eget.',\n 'Mauris',\n 'sit',\n 'amet',\n 'varius',\n 'turpis.',\n 'Mauris',\n 'volutpat',\n 'egestas.',\n 'Fusce',\n 'tempor',\n 'quam',\n 'est,',\n 'venenatis',\n 'diam',\n 'pharetra',\n 'sit',\n 'amet.',\n 'massa',\n 'leo',\n 'venenatis',\n 'molestie',\n 'lorem.',\n 'Fusce',\n 'nec',\n 'eros',\n 'purus',\n 'convallis',\n 'faucibus',\n 'purus.',\n 'Fusce',\n 'nec',\n 'arcu',\n 'congue,',\n 'sodales',\n 'sem',\n 'eu,',\n 'gravida',\n 'magna.',\n 'Vivamus',\n 'ultricies',\n 'quis',\n 'mauris',\n 'vel',\n 'malesuada.',\n 'Etiam',\n 'viverra',\n 'ipsum',\n 'turpis',\n 'porta,',\n 'eget',\n 'interdum',\n 'ligula',\n 'sollicitudin.',\n 'Sed',\n 'nibh',\n 'laoreet,',\n 'tempus',\n 'magna',\n 'nec,',\n 'condimentum',\n 'mauris.',\n 'Mauris',\n 'vel',\n 'felis',\n 'eros.',\n 'Duis',\n 'auctor',\n 'molestie',\n 'nisl',\n 'non',\n 'mattis.',\n 'Aliquam',\n 'egestas',\n 'erat',\n 'pretium',\n 'elementum.',\n 'Morbi',\n 'enim',\n 'erat',\n 'scelerisque',\n 'facilisis',\n 'vitae',\n 'libero.',\n 'Integer',\n 'fermentum',\n 'fringilla',\n 'tortor.',\n 'Vivamus',\n 'accumsan',\n 'elementum',\n 'eget',\n 'accumsan.',\n 'Sed',\n 'rutrum',\n 'libero.',\n 'Quisque',\n 'varius',\n 'elementum',\n 'fringilla.',\n 'Praesent',\n 'suscipit',\n 'felis,',\n 'non',\n 'laoreet',\n 'diam.',\n 'hac',\n 'habitasse',\n 'platea',\n 'dictumst.',\n 'Fusce',\n 'hendrerit,',\n 'sapien',\n 'quis',\n 'sollicitudin',\n 'commodo,',\n 'justo',\n 'leo',\n 'laoreet',\n 'lacus,',\n 'eleifend',\n 'turpis',\n 'ante',\n 'vitae',\n 'libero.',\n 'Vivamus',\n 'porttitor',\n 'mauris',\n 'venenatis',\n 'imperdiet',\n 'lacinia.',\n 'Donec',\n 'convallis',\n 'lacus',\n 'nec',\n 'laoreet',\n 'congue.',\n 'Sed',\n 'vitae',\n 'metus',\n 'facilisis,',\n 'feugiat',\n 'arcu',\n 'eu,',\n 'commodo',\n 'velit.',\n 'Cras',\n 'sed',\n 'ultricies',\n 'dui.',\n 'Suspendisse',\n 'potenti.',\n 'Nulla',\n 'facilisi.',\n 'varius',\n 'varius',\n 'nunc,',\n 'egestas',\n 'eros',\n 'sagittis',\n 'id.',\n 'Etiam',\n 'vel',\n 'aliquet',\n 'ex,',\n 'mattis',\n 'est.',\n 'Vestibulum',\n 'ante',\n 'ipsum',\n 'primis',\n 'faucibus',\n 'orci',\n 'luctus',\n 'ultrices',\n 'posuere',\n 'cubilia',\n 'curae;',\n 'Nulla',\n 'vitae',\n 'nunc',\n 'nulla.',\n 'Pellentesque',\n 'habitant',\n 'morbi',\n 'tristique',\n 'senectus',\n 'netus',\n 'malesuada',\n 'fames',\n 'turpis',\n 'egestas.',\n 'Vivamus',\n 'nec',\n 'dolor',\n 'augue',\n 'pretium',\n 'facilisis.',\n 'Lorem',\n 'ipsum',\n 'dolor',\n 'sit',\n 'amet,',\n 'consectetur',\n 'adipiscing',\n 'elit.',\n 'Pellentesque',\n 'urna',\n 'eros.',\n 'Pellentesque',\n 'dapibus',\n 'nulla',\n 'lorem,',\n 'blandit',\n 'arcu',\n 'congue',\n 'id.',\n 'Morbi',\n 'viverra',\n 'elit',\n 'eleifend',\n 'condimentum.',\n 'Curabitur',\n 'vel',\n 'rutrum',\n 'sem.',\n 'Maecenas',\n 'tempor',\n 'libero.',\n 'Proin',\n 'finibus',\n 'nisl',\n 'purus',\n 'feugiat',\n 'vestibulum.',\n 'Fusce',\n 'odio',\n 'velit,',\n 'vulputate',\n 'non',\n 'mollis',\n 'ac,',\n 'dictum',\n 'sed',\n 'nisi.',\n 'Sed',\n 'semper',\n 'nunc',\n 'quis',\n 'massa',\n 'gravida,',\n 'vel',\n 'tempus',\n 'odio',\n 'mattis.',\n 'Morbi',\n 'justo',\n 'mollis',\n 'ligula',\n 'luctus',\n 'hendrerit.',\n 'Pellentesque',\n 'tristique',\n 'justo',\n 'faucibus',\n 'aliquam.',\n 'Donec',\n 'iaculis',\n 'lacus',\n 'lacus,',\n 'sit',\n 'amet',\n 'suscipit',\n 'purus',\n 'egestas',\n 'at.',\n 'Aenean',\n 'ultricies',\n 'nibh',\n 'leo',\n 'condimentum,',\n 'nec',\n 'lacinia',\n 'neque',\n 'convallis.',\n 'Donec',\n 'egestas',\n 'est,',\n 'tempus',\n 'convallis',\n 'tortor.',\n 'sed',\n 'mauris',\n 'dui.',\n 'venenatis',\n 'arcu',\n 'vitae',\n 'dui',\n 'fermentum',\n 'maximus.',\n 'Vestibulum',\n 'egestas',\n 'sagittis',\n 'odio',\n 'malesuada.',\n 'Curabitur',\n 'sit',\n 'amet',\n 'tellus',\n 'vestibulum',\n 'augue',\n 'fermentum',\n 'egestas',\n 'vitae',\n 'massa.',\n 'Quisque',\n 'ultrices',\n 'augue',\n 'sapien,',\n 'vestibulum',\n 'mauris',\n 'pharetra',\n 'Maecenas',\n 'imperdiet',\n 'tellus',\n 'dui,',\n 'sollicitudin',\n 'augue',\n 'eleifend',\n 'ut.',\n 'Aliquam',\n 'quis',\n 'eros',\n 'non',\n 'magna',\n 'feugiat',\n 'ullamcorper',\n 'diam.',\n 'Aliquam',\n 'sit',\n 'amet',\n 'posuere',\n 'leo.',\n 'Suspendisse',\n 'sodales',\n 'tincidunt',\n 'mi.',\n 'varius',\n 'mi,',\n 'vel',\n 'pulvinar',\n 'lectus.',\n 'Fusce',\n 'vel',\n 'tellus',\n 'pellentesque,',\n 'porta',\n 'risus',\n 'semper',\n 'eros.',\n 'Nullam',\n 'auctor',\n 'elit',\n 'condimentum,',\n 'scelerisque',\n 'quam',\n 'et,',\n 'sodales',\n 'diam.',\n 'Nunc',\n 'ultrices',\n 'dui',\n 'odio,',\n 'sed',\n 'vestibulum',\n 'justo',\n 'dictum',\n 'eget.',\n 'Vestibulum',\n 'convallis',\n 'vestibulum',\n 'pharetra.',\n 'Morbi',\n 'finibus',\n 'vitae',\n 'tortor',\n 'eget',\n 'accumsan.',\n 'Praesent',\n 'faucibus',\n 'malesuada',\n 'semper.',\n 'Phasellus',\n 'suscipit',\n 'risus.',\n 'Nullam',\n 'quis',\n 'nibh',\n 'laoreet,',\n 'lacinia',\n 'est',\n 'in,',\n 'euismod',\n 'enim.',\n 'Nunc',\n 'vitae',\n 'odio',\n 'ex.',\n 'Praesent',\n 'fringilla',\n 'egestas',\n 'quam',\n 'consequat',\n 'finibus.',\n 'Suspendisse',\n 'sed',\n 'lorem',\n 'non',\n 'tellus',\n 'lacinia',\n 'commodo',\n 'vel',\n 'tortor.',\n 'Proin',\n 'pellentesque',\n 'vel',\n 'nunc',\n 'interdum.',\n 'Aenean',\n 'feugiat',\n 'velit',\n 'ipsum,',\n 'vitae',\n 'condimentum',\n 'est',\n 'hendrerit',\n 'in.',\n 'Sed',\n 'posuere',\n 'velit',\n 'fermentum',\n 'justo',\n 'elementum',\n 'pulvinar.',\n 'Fusce',\n 'imperdiet',\n 'metus',\n 'purus',\n 'suscipit',\n 'pulvinar.',\n 'Donec',\n 'dictum',\n 'libero',\n 'sed',\n 'rhoncus',\n 'fringilla.',\n 'Proin',\n 'metus',\n 'mattis',\n 'magna',\n 'molestie',\n 'scelerisque.',\n 'Pellentesque',\n 'vitae',\n 'commodo',\n 'justo,',\n 'sit',\n 'amet',\n 'facilisis',\n 'ante.',\n 'Morbi',\n 'venenatis,',\n 'augue',\n 'vel',\n 'elementum',\n 'placerat,',\n 'velit',\n 'enim',\n 'faucibus',\n 'erat,',\n 'scelerisque',\n 'luctus',\n 'mauris',\n 'nulla',\n 'nec',\n 'nulla.',\n 'hac',\n 'habitasse',\n 'platea',\n 'dictumst.',\n 'Nulla',\n 'interdum',\n 'neque,',\n 'euismod',\n 'nisl.',\n 'Morbi',\n 'fringilla',\n 'lectus',\n 'risus,',\n 'ullamcorper',\n 'elit',\n 'dapibus',\n 'nec.',\n 'Maecenas',\n 'quis',\n ...]"
     },
     "execution_count": 7,
     "metadata": {},
     "output_type": "execute_result"
    }
   ],
   "source": [
    "phase_one = rdd_set.flatMap(lambda x: x.split(\" \")).filter(lambda x:len(x)>2)\n",
    "phase_one.collect()"
   ]
  },
  {
   "cell_type": "code",
   "execution_count": 8,
   "metadata": {
    "pycharm": {
     "name": "#%%\n"
    }
   },
   "outputs": [
    {
     "data": {
      "text/plain": "[('Lorem', 1),\n ('ipsum', 1),\n ('dolor', 1),\n ('sit', 1),\n ('amet,', 1),\n ('consectetur', 1),\n ('adipiscing', 1),\n ('elit.', 1),\n ('Nunc', 1),\n ('vitae', 1),\n ('tempor', 1),\n ('tortor.', 1),\n ('Suspendisse', 1),\n ('nec', 1),\n ('ultrices', 1),\n ('ex.', 1),\n ('Etiam', 1),\n ('non', 1),\n ('egestas', 1),\n ('mi.', 1),\n ('Nulla', 1),\n ('ipsum', 1),\n ('massa,', 1),\n ('auctor', 1),\n ('accumsan', 1),\n ('id,', 1),\n ('fringilla', 1),\n ('tortor.', 1),\n ('Nulla', 1),\n ('hendrerit', 1),\n ('lectus', 1),\n ('nec', 1),\n ('enim', 1),\n ('fermentum', 1),\n ('consequat.', 1),\n ('Maecenas', 1),\n ('metus', 1),\n ('eget', 1),\n ('nulla', 1),\n ('viverra', 1),\n ('elementum.', 1),\n ('Suspendisse', 1),\n ('euismod', 1),\n ('eget', 1),\n ('risus', 1),\n ('varius.', 1),\n ('Sed', 1),\n ('scelerisque,', 1),\n ('justo', 1),\n ('luctus', 1),\n ('cursus,', 1),\n ('eros', 1),\n ('tortor', 1),\n ('commodo', 1),\n ('nulla,', 1),\n ('volutpat', 1),\n ('ante', 1),\n ('justo.', 1),\n ('Duis', 1),\n ('dui', 1),\n ('tellus,', 1),\n ('blandit', 1),\n ('accumsan', 1),\n ('egestas', 1),\n ('at,', 1),\n ('bibendum', 1),\n ('porttitor', 1),\n ('nulla.', 1),\n ('vestibulum', 1),\n ('purus', 1),\n ('purus,', 1),\n ('eget', 1),\n ('semper', 1),\n ('ante', 1),\n ('bibendum', 1),\n ('at.', 1),\n ('Nunc', 1),\n ('molestie', 1),\n ('purus', 1),\n ('quam,', 1),\n ('vitae', 1),\n ('ullamcorper', 1),\n ('eros', 1),\n ('lobortis', 1),\n ('sit', 1),\n ('amet.', 1),\n ('Donec', 1),\n ('est', 1),\n ('faucibus', 1),\n ('semper', 1),\n ('vitae', 1),\n ('sem.', 1),\n ('Praesent', 1),\n ('efficitur', 1),\n ('dignissim', 1),\n ('erat,', 1),\n ('sit', 1),\n ('amet', 1),\n ('rutrum', 1),\n ('tortor', 1),\n ('pharetra', 1),\n ('sit', 1),\n ('amet.', 1),\n ('Duis', 1),\n ('consequat', 1),\n ('lacus.', 1),\n ('Phasellus', 1),\n ('tincidunt,', 1),\n ('purus', 1),\n ('iaculis', 1),\n ('malesuada,', 1),\n ('risus', 1),\n ('magna', 1),\n ('volutpat', 1),\n ('sem,', 1),\n ('efficitur', 1),\n ('mauris', 1),\n ('massa', 1),\n ('malesuada', 1),\n ('enim.', 1),\n ('Etiam', 1),\n ('consequat', 1),\n ('augue.', 1),\n ('vitae', 1),\n ('ligula', 1),\n ('ultricies,', 1),\n ('gravida', 1),\n ('quam', 1),\n ('id,', 1),\n ('varius', 1),\n ('massa.', 1),\n ('Quisque', 1),\n ('scelerisque', 1),\n ('nisl.', 1),\n ('Proin', 1),\n ('aliquet', 1),\n ('rutrum', 1),\n ('ligula', 1),\n ('cursus.', 1),\n ('Mauris', 1),\n ('scelerisque', 1),\n ('sagittis', 1),\n ('odio.', 1),\n ('Duis', 1),\n ('nunc', 1),\n ('velit,', 1),\n ('lacinia', 1),\n ('vel', 1),\n ('arcu', 1),\n ('id,', 1),\n ('commodo', 1),\n ('scelerisque', 1),\n ('ligula.', 1),\n ('Proin', 1),\n ('augue', 1),\n ('tortor.', 1),\n ('Orci', 1),\n ('varius', 1),\n ('natoque', 1),\n ('penatibus', 1),\n ('magnis', 1),\n ('dis', 1),\n ('parturient', 1),\n ('montes,', 1),\n ('nascetur', 1),\n ('ridiculus', 1),\n ('mus.', 1),\n ('Nam', 1),\n ('ullamcorper', 1),\n ('velit', 1),\n ('sapien', 1),\n ('vestibulum,', 1),\n ('mollis', 1),\n ('dui', 1),\n ('faucibus.', 1),\n ('Nam', 1),\n ('vestibulum', 1),\n ('justo', 1),\n ('nisl', 1),\n ('convallis', 1),\n ('mollis.', 1),\n ('Sed', 1),\n ('facilisis', 1),\n ('diam', 1),\n ('tellus', 1),\n ('commodo', 1),\n ('feugiat.', 1),\n ('Pellentesque', 1),\n ('ultrices,', 1),\n ('tortor', 1),\n ('feugiat', 1),\n ('vulputate,', 1),\n ('sapien', 1),\n ('erat', 1),\n ('ullamcorper', 1),\n ('ante,', 1),\n ('mattis', 1),\n ('magna', 1),\n ('lectus', 1),\n ('feugiat', 1),\n ('tortor.', 1),\n ('efficitur', 1),\n ('mollis', 1),\n ('libero,', 1),\n ('convallis', 1),\n ('odio', 1),\n ('ullamcorper', 1),\n ('varius.', 1),\n ('Cras', 1),\n ('fermentum,', 1),\n ('eros', 1),\n ('dignissim', 1),\n ('molestie,', 1),\n ('nibh', 1),\n ('arcu', 1),\n ('maximus', 1),\n ('ipsum,', 1),\n ('eget', 1),\n ('gravida', 1),\n ('lacus', 1),\n ('tortor', 1),\n ('nec', 1),\n ('neque.', 1),\n ('hac', 1),\n ('habitasse', 1),\n ('platea', 1),\n ('dictumst.', 1),\n ('Nulla', 1),\n ('interdum', 1),\n ('est', 1),\n ('nibh,', 1),\n ('euismod', 1),\n ('est', 1),\n ('varius', 1),\n ('vel.', 1),\n ('Nunc', 1),\n ('quis', 1),\n ('tellus', 1),\n ('vitae', 1),\n ('orci', 1),\n ('accumsan', 1),\n ('venenatis.', 1),\n ('Nam', 1),\n ('sed', 1),\n ('nibh', 1),\n ('nec', 1),\n ('tortor', 1),\n ('luctus', 1),\n ('tincidunt', 1),\n ('rhoncus', 1),\n ('orci.', 1),\n ('Integer', 1),\n ('placerat', 1),\n ('nisi', 1),\n ('sed', 1),\n ('erat', 1),\n ('tristique', 1),\n ('dignissim.', 1),\n ('Vestibulum', 1),\n ('pharetra', 1),\n ('egestas', 1),\n ('eros,', 1),\n ('varius', 1),\n ('gravida', 1),\n ('augue', 1),\n ('pulvinar', 1),\n ('in.', 1),\n ('Vivamus', 1),\n ('massa', 1),\n ('vel', 1),\n ('ipsum', 1),\n ('condimentum', 1),\n ('feugiat.', 1),\n ('Sed', 1),\n ('sollicitudin', 1),\n ('tincidunt', 1),\n ('nunc', 1),\n ('mollis.', 1),\n ('Nam', 1),\n ('elementum', 1),\n ('lectus', 1),\n ('nisi,', 1),\n ('ornare', 1),\n ('magna', 1),\n ('convallis', 1),\n ('eget.', 1),\n ('Sed', 1),\n ('massa', 1),\n ('diam,', 1),\n ('pretium', 1),\n ('bibendum', 1),\n ('at,', 1),\n ('dignissim', 1),\n ('sit', 1),\n ('amet', 1),\n ('libero.', 1),\n ('Aenean', 1),\n ('nunc', 1),\n ('augue,', 1),\n ('egestas', 1),\n ('condimentum', 1),\n ('ante', 1),\n ('molestie', 1),\n ('faucibus', 1),\n ('leo.', 1),\n ('Aenean', 1),\n ('scelerisque', 1),\n ('pulvinar', 1),\n ('neque', 1),\n ('quis', 1),\n ('molestie.', 1),\n ('Phasellus', 1),\n ('accumsan', 1),\n ('nibh', 1),\n ('ipsum.', 1),\n ('aliquet', 1),\n ('magna', 1),\n ('metus,', 1),\n ('quis', 1),\n ('gravida', 1),\n ('nulla', 1),\n ('pretium', 1),\n ('et.', 1),\n ('Proin', 1),\n ('lobortis', 1),\n ('dapibus', 1),\n ('sagittis.', 1),\n ('Sed', 1),\n ('finibus', 1),\n ('nisi', 1),\n ('est,', 1),\n ('vel', 1),\n ('accumsan', 1),\n ('nunc', 1),\n ('tempor', 1),\n ('eget.', 1),\n ('Phasellus', 1),\n ('est', 1),\n ('enim,', 1),\n ('ullamcorper', 1),\n ('posuere', 1),\n ('ac,', 1),\n ('laoreet', 1),\n ('sed', 1),\n ('purus.', 1),\n ('Vestibulum', 1),\n ('non', 1),\n ('luctus', 1),\n ('libero.', 1),\n ('Fusce', 1),\n ('elit', 1),\n ('leo,', 1),\n ('tincidunt', 1),\n ('tincidunt', 1),\n ('nec,', 1),\n ('imperdiet', 1),\n ('libero.', 1),\n ('Nullam', 1),\n ('finibus', 1),\n ('velit', 1),\n ('neque', 1),\n ('scelerisque', 1),\n ('dignissim.', 1),\n ('turpis', 1),\n ('ante,', 1),\n ('aliquam', 1),\n ('vulputate', 1),\n ('turpis', 1),\n ('dignissim,', 1),\n ('scelerisque', 1),\n ('imperdiet', 1),\n ('ante.', 1),\n ('Aenean', 1),\n ('dignissim', 1),\n ('nisl,', 1),\n ('eget', 1),\n ('consequat', 1),\n ('ex.', 1),\n ('Interdum', 1),\n ('malesuada', 1),\n ('fames', 1),\n ('ante', 1),\n ('ipsum', 1),\n ('primis', 1),\n ('faucibus.', 1),\n ('Nulla', 1),\n ('convallis', 1),\n ('urna', 1),\n ('fringilla,', 1),\n ('fermentum', 1),\n ('turpis', 1),\n ('ultrices.', 1),\n ('Praesent', 1),\n ('lobortis,', 1),\n ('sit', 1),\n ('amet', 1),\n ('auctor', 1),\n ('molestie,', 1),\n ('ante', 1),\n ('sem', 1),\n ('eleifend', 1),\n ('lectus,', 1),\n ('sed', 1),\n ('luctus', 1),\n ('odio', 1),\n ('nibh', 1),\n ('nisi.', 1),\n ('semper', 1),\n ('urna', 1),\n ('dignissim', 1),\n ('nunc', 1),\n ('tincidunt,', 1),\n ('facilisis', 1),\n ('sapien', 1),\n ('congue.', 1),\n ('Sed', 1),\n ('lacinia', 1),\n ('posuere', 1),\n ('venenatis.', 1),\n ('Aenean', 1),\n ('luctus', 1),\n ('ipsum', 1),\n ('finibus', 1),\n ('bibendum.', 1),\n ('Etiam', 1),\n ('bibendum', 1),\n ('magna,', 1),\n ('dapibus', 1),\n ('tortor', 1),\n ('mollis', 1),\n ('non.', 1),\n ('Suspendisse', 1),\n ('tempus', 1),\n ('tincidunt', 1),\n ('ante', 1),\n ('non', 1),\n ('sagittis.', 1),\n ('Donec', 1),\n ('vulputate', 1),\n ('urna.', 1),\n ('Sed', 1),\n ('commodo', 1),\n ('leo', 1),\n ('sit', 1),\n ('amet', 1),\n ('faucibus.', 1),\n ('Etiam', 1),\n ('rutrum', 1),\n ('arcu', 1),\n ('volutpat,', 1),\n ('laoreet', 1),\n ('sem', 1),\n ('id,', 1),\n ('porta', 1),\n ('dolor.', 1),\n ('Aenean', 1),\n ('vitae', 1),\n ('sapien', 1),\n ('dolor.', 1),\n ('Aenean', 1),\n ('sollicitudin', 1),\n ('gravida', 1),\n ('convallis.', 1),\n ('Lorem', 1),\n ('ipsum', 1),\n ('dolor', 1),\n ('sit', 1),\n ('amet,', 1),\n ('consectetur', 1),\n ('adipiscing', 1),\n ('elit.', 1),\n ('Curabitur', 1),\n ('ultricies', 1),\n ('turpis', 1),\n ('non', 1),\n ('neque', 1),\n ('viverra', 1),\n ('euismod.', 1),\n ('Aliquam', 1),\n ('rutrum', 1),\n ('nunc', 1),\n ('vel', 1),\n ('magna', 1),\n ('fermentum,', 1),\n ('volutpat', 1),\n ('augue', 1),\n ('placerat.', 1),\n ('Vestibulum', 1),\n ('posuere', 1),\n ('placerat', 1),\n ('est,', 1),\n ('quis', 1),\n ('suscipit', 1),\n ('metus', 1),\n ('aliquam', 1),\n ('eget.', 1),\n ('Mauris', 1),\n ('sit', 1),\n ('amet', 1),\n ('varius', 1),\n ('turpis.', 1),\n ('Mauris', 1),\n ('volutpat', 1),\n ('egestas.', 1),\n ('Fusce', 1),\n ('tempor', 1),\n ('quam', 1),\n ('est,', 1),\n ('venenatis', 1),\n ('diam', 1),\n ('pharetra', 1),\n ('sit', 1),\n ('amet.', 1),\n ('massa', 1),\n ('leo', 1),\n ('venenatis', 1),\n ('molestie', 1),\n ('lorem.', 1),\n ('Fusce', 1),\n ('nec', 1),\n ('eros', 1),\n ('purus', 1),\n ('convallis', 1),\n ('faucibus', 1),\n ('purus.', 1),\n ('Fusce', 1),\n ('nec', 1),\n ('arcu', 1),\n ('congue,', 1),\n ('sodales', 1),\n ('sem', 1),\n ('eu,', 1),\n ('gravida', 1),\n ('magna.', 1),\n ('Vivamus', 1),\n ('ultricies', 1),\n ('quis', 1),\n ('mauris', 1),\n ('vel', 1),\n ('malesuada.', 1),\n ('Etiam', 1),\n ('viverra', 1),\n ('ipsum', 1),\n ('turpis', 1),\n ('porta,', 1),\n ('eget', 1),\n ('interdum', 1),\n ('ligula', 1),\n ('sollicitudin.', 1),\n ('Sed', 1),\n ('nibh', 1),\n ('laoreet,', 1),\n ('tempus', 1),\n ('magna', 1),\n ('nec,', 1),\n ('condimentum', 1),\n ('mauris.', 1),\n ('Mauris', 1),\n ('vel', 1),\n ('felis', 1),\n ('eros.', 1),\n ('Duis', 1),\n ('auctor', 1),\n ('molestie', 1),\n ('nisl', 1),\n ('non', 1),\n ('mattis.', 1),\n ('Aliquam', 1),\n ('egestas', 1),\n ('erat', 1),\n ('pretium', 1),\n ('elementum.', 1),\n ('Morbi', 1),\n ('enim', 1),\n ('erat', 1),\n ('scelerisque', 1),\n ('facilisis', 1),\n ('vitae', 1),\n ('libero.', 1),\n ('Integer', 1),\n ('fermentum', 1),\n ('fringilla', 1),\n ('tortor.', 1),\n ('Vivamus', 1),\n ('accumsan', 1),\n ('elementum', 1),\n ('eget', 1),\n ('accumsan.', 1),\n ('Sed', 1),\n ('rutrum', 1),\n ('libero.', 1),\n ('Quisque', 1),\n ('varius', 1),\n ('elementum', 1),\n ('fringilla.', 1),\n ('Praesent', 1),\n ('suscipit', 1),\n ('felis,', 1),\n ('non', 1),\n ('laoreet', 1),\n ('diam.', 1),\n ('hac', 1),\n ('habitasse', 1),\n ('platea', 1),\n ('dictumst.', 1),\n ('Fusce', 1),\n ('hendrerit,', 1),\n ('sapien', 1),\n ('quis', 1),\n ('sollicitudin', 1),\n ('commodo,', 1),\n ('justo', 1),\n ('leo', 1),\n ('laoreet', 1),\n ('lacus,', 1),\n ('eleifend', 1),\n ('turpis', 1),\n ('ante', 1),\n ('vitae', 1),\n ('libero.', 1),\n ('Vivamus', 1),\n ('porttitor', 1),\n ('mauris', 1),\n ('venenatis', 1),\n ('imperdiet', 1),\n ('lacinia.', 1),\n ('Donec', 1),\n ('convallis', 1),\n ('lacus', 1),\n ('nec', 1),\n ('laoreet', 1),\n ('congue.', 1),\n ('Sed', 1),\n ('vitae', 1),\n ('metus', 1),\n ('facilisis,', 1),\n ('feugiat', 1),\n ('arcu', 1),\n ('eu,', 1),\n ('commodo', 1),\n ('velit.', 1),\n ('Cras', 1),\n ('sed', 1),\n ('ultricies', 1),\n ('dui.', 1),\n ('Suspendisse', 1),\n ('potenti.', 1),\n ('Nulla', 1),\n ('facilisi.', 1),\n ('varius', 1),\n ('varius', 1),\n ('nunc,', 1),\n ('egestas', 1),\n ('eros', 1),\n ('sagittis', 1),\n ('id.', 1),\n ('Etiam', 1),\n ('vel', 1),\n ('aliquet', 1),\n ('ex,', 1),\n ('mattis', 1),\n ('est.', 1),\n ('Vestibulum', 1),\n ('ante', 1),\n ('ipsum', 1),\n ('primis', 1),\n ('faucibus', 1),\n ('orci', 1),\n ('luctus', 1),\n ('ultrices', 1),\n ('posuere', 1),\n ('cubilia', 1),\n ('curae;', 1),\n ('Nulla', 1),\n ('vitae', 1),\n ('nunc', 1),\n ('nulla.', 1),\n ('Pellentesque', 1),\n ('habitant', 1),\n ('morbi', 1),\n ('tristique', 1),\n ('senectus', 1),\n ('netus', 1),\n ('malesuada', 1),\n ('fames', 1),\n ('turpis', 1),\n ('egestas.', 1),\n ('Vivamus', 1),\n ('nec', 1),\n ('dolor', 1),\n ('augue', 1),\n ('pretium', 1),\n ('facilisis.', 1),\n ('Lorem', 1),\n ('ipsum', 1),\n ('dolor', 1),\n ('sit', 1),\n ('amet,', 1),\n ('consectetur', 1),\n ('adipiscing', 1),\n ('elit.', 1),\n ('Pellentesque', 1),\n ('urna', 1),\n ('eros.', 1),\n ('Pellentesque', 1),\n ('dapibus', 1),\n ('nulla', 1),\n ('lorem,', 1),\n ('blandit', 1),\n ('arcu', 1),\n ('congue', 1),\n ('id.', 1),\n ('Morbi', 1),\n ('viverra', 1),\n ('elit', 1),\n ('eleifend', 1),\n ('condimentum.', 1),\n ('Curabitur', 1),\n ('vel', 1),\n ('rutrum', 1),\n ('sem.', 1),\n ('Maecenas', 1),\n ('tempor', 1),\n ('libero.', 1),\n ('Proin', 1),\n ('finibus', 1),\n ('nisl', 1),\n ('purus', 1),\n ('feugiat', 1),\n ('vestibulum.', 1),\n ('Fusce', 1),\n ('odio', 1),\n ('velit,', 1),\n ('vulputate', 1),\n ('non', 1),\n ('mollis', 1),\n ('ac,', 1),\n ('dictum', 1),\n ('sed', 1),\n ('nisi.', 1),\n ('Sed', 1),\n ('semper', 1),\n ('nunc', 1),\n ('quis', 1),\n ('massa', 1),\n ('gravida,', 1),\n ('vel', 1),\n ('tempus', 1),\n ('odio', 1),\n ('mattis.', 1),\n ('Morbi', 1),\n ('justo', 1),\n ('mollis', 1),\n ('ligula', 1),\n ('luctus', 1),\n ('hendrerit.', 1),\n ('Pellentesque', 1),\n ('tristique', 1),\n ('justo', 1),\n ('faucibus', 1),\n ('aliquam.', 1),\n ('Donec', 1),\n ('iaculis', 1),\n ('lacus', 1),\n ('lacus,', 1),\n ('sit', 1),\n ('amet', 1),\n ('suscipit', 1),\n ('purus', 1),\n ('egestas', 1),\n ('at.', 1),\n ('Aenean', 1),\n ('ultricies', 1),\n ('nibh', 1),\n ('leo', 1),\n ('condimentum,', 1),\n ('nec', 1),\n ('lacinia', 1),\n ('neque', 1),\n ('convallis.', 1),\n ('Donec', 1),\n ('egestas', 1),\n ('est,', 1),\n ('tempus', 1),\n ('convallis', 1),\n ('tortor.', 1),\n ('sed', 1),\n ('mauris', 1),\n ('dui.', 1),\n ('venenatis', 1),\n ('arcu', 1),\n ('vitae', 1),\n ('dui', 1),\n ('fermentum', 1),\n ('maximus.', 1),\n ('Vestibulum', 1),\n ('egestas', 1),\n ('sagittis', 1),\n ('odio', 1),\n ('malesuada.', 1),\n ('Curabitur', 1),\n ('sit', 1),\n ('amet', 1),\n ('tellus', 1),\n ('vestibulum', 1),\n ('augue', 1),\n ('fermentum', 1),\n ('egestas', 1),\n ('vitae', 1),\n ('massa.', 1),\n ('Quisque', 1),\n ('ultrices', 1),\n ('augue', 1),\n ('sapien,', 1),\n ('vestibulum', 1),\n ('mauris', 1),\n ('pharetra', 1),\n ('Maecenas', 1),\n ('imperdiet', 1),\n ('tellus', 1),\n ('dui,', 1),\n ('sollicitudin', 1),\n ('augue', 1),\n ('eleifend', 1),\n ('ut.', 1),\n ('Aliquam', 1),\n ('quis', 1),\n ('eros', 1),\n ('non', 1),\n ('magna', 1),\n ('feugiat', 1),\n ('ullamcorper', 1),\n ('diam.', 1),\n ('Aliquam', 1),\n ('sit', 1),\n ('amet', 1),\n ('posuere', 1),\n ('leo.', 1),\n ('Suspendisse', 1),\n ('sodales', 1),\n ('tincidunt', 1),\n ('mi.', 1),\n ('varius', 1),\n ('mi,', 1),\n ('vel', 1),\n ('pulvinar', 1),\n ('lectus.', 1),\n ('Fusce', 1),\n ('vel', 1),\n ('tellus', 1),\n ('pellentesque,', 1),\n ('porta', 1),\n ('risus', 1),\n ('semper', 1),\n ('eros.', 1),\n ('Nullam', 1),\n ('auctor', 1),\n ('elit', 1),\n ('condimentum,', 1),\n ('scelerisque', 1),\n ('quam', 1),\n ('et,', 1),\n ('sodales', 1),\n ('diam.', 1),\n ('Nunc', 1),\n ('ultrices', 1),\n ('dui', 1),\n ('odio,', 1),\n ('sed', 1),\n ('vestibulum', 1),\n ('justo', 1),\n ('dictum', 1),\n ('eget.', 1),\n ('Vestibulum', 1),\n ('convallis', 1),\n ('vestibulum', 1),\n ('pharetra.', 1),\n ('Morbi', 1),\n ('finibus', 1),\n ('vitae', 1),\n ('tortor', 1),\n ('eget', 1),\n ('accumsan.', 1),\n ('Praesent', 1),\n ('faucibus', 1),\n ('malesuada', 1),\n ('semper.', 1),\n ('Phasellus', 1),\n ('suscipit', 1),\n ('risus.', 1),\n ('Nullam', 1),\n ('quis', 1),\n ('nibh', 1),\n ('laoreet,', 1),\n ('lacinia', 1),\n ('est', 1),\n ('in,', 1),\n ('euismod', 1),\n ('enim.', 1),\n ('Nunc', 1),\n ('vitae', 1),\n ('odio', 1),\n ('ex.', 1),\n ('Praesent', 1),\n ('fringilla', 1),\n ('egestas', 1),\n ('quam', 1),\n ('consequat', 1),\n ('finibus.', 1),\n ('Suspendisse', 1),\n ('sed', 1),\n ('lorem', 1),\n ('non', 1),\n ('tellus', 1),\n ('lacinia', 1),\n ('commodo', 1),\n ('vel', 1),\n ('tortor.', 1),\n ('Proin', 1),\n ('pellentesque', 1),\n ('vel', 1),\n ('nunc', 1),\n ('interdum.', 1),\n ('Aenean', 1),\n ('feugiat', 1),\n ('velit', 1),\n ('ipsum,', 1),\n ('vitae', 1),\n ('condimentum', 1),\n ('est', 1),\n ('hendrerit', 1),\n ('in.', 1),\n ('Sed', 1),\n ('posuere', 1),\n ('velit', 1),\n ('fermentum', 1),\n ('justo', 1),\n ('elementum', 1),\n ('pulvinar.', 1),\n ('Fusce', 1),\n ('imperdiet', 1),\n ('metus', 1),\n ('purus', 1),\n ('suscipit', 1),\n ('pulvinar.', 1),\n ('Donec', 1),\n ('dictum', 1),\n ('libero', 1),\n ('sed', 1),\n ('rhoncus', 1),\n ('fringilla.', 1),\n ('Proin', 1),\n ('metus', 1),\n ('mattis', 1),\n ('magna', 1),\n ('molestie', 1),\n ('scelerisque.', 1),\n ('Pellentesque', 1),\n ('vitae', 1),\n ('commodo', 1),\n ('justo,', 1),\n ('sit', 1),\n ('amet', 1),\n ('facilisis', 1),\n ('ante.', 1),\n ('Morbi', 1),\n ('venenatis,', 1),\n ('augue', 1),\n ('vel', 1),\n ('elementum', 1),\n ('placerat,', 1),\n ('velit', 1),\n ('enim', 1),\n ('faucibus', 1),\n ('erat,', 1),\n ('scelerisque', 1),\n ('luctus', 1),\n ('mauris', 1),\n ('nulla', 1),\n ('nec', 1),\n ('nulla.', 1),\n ('hac', 1),\n ('habitasse', 1),\n ('platea', 1),\n ('dictumst.', 1),\n ('Nulla', 1),\n ('interdum', 1),\n ('neque,', 1),\n ('euismod', 1),\n ('nisl.', 1),\n ('Morbi', 1),\n ('fringilla', 1),\n ('lectus', 1),\n ('risus,', 1),\n ('ullamcorper', 1),\n ('elit', 1),\n ('dapibus', 1),\n ('nec.', 1),\n ('Maecenas', 1),\n ('quis', 1),\n ...]"
     },
     "execution_count": 8,
     "metadata": {},
     "output_type": "execute_result"
    }
   ],
   "source": [
    "phase_two = phase_one.map(lambda x:(x,1))\n",
    "phase_two.collect()"
   ]
  },
  {
   "cell_type": "code",
   "execution_count": 9,
   "metadata": {
    "pycharm": {
     "name": "#%%\n"
    }
   },
   "outputs": [
    {
     "data": {
      "text/plain": "[('Lorem', <pyspark.resultiterable.ResultIterable at 0x7fa0007846d0>),\n ('ipsum', <pyspark.resultiterable.ResultIterable at 0x7f9ff4571b50>),\n ('consectetur', <pyspark.resultiterable.ResultIterable at 0x7f9ff4571880>),\n ('elit.', <pyspark.resultiterable.ResultIterable at 0x7f9ff4571c10>),\n ('Nunc', <pyspark.resultiterable.ResultIterable at 0x7f9ff4571940>),\n ('vitae', <pyspark.resultiterable.ResultIterable at 0x7f9ff4571c70>),\n ('ex.', <pyspark.resultiterable.ResultIterable at 0x7f9ff4571cd0>),\n ('fringilla', <pyspark.resultiterable.ResultIterable at 0x7f9ff4571d30>),\n ('lectus', <pyspark.resultiterable.ResultIterable at 0x7f9ff4571d90>),\n ('fermentum', <pyspark.resultiterable.ResultIterable at 0x7f9ff45710d0>),\n ('consequat.', <pyspark.resultiterable.ResultIterable at 0x7f9ff4571e50>),\n ('Maecenas', <pyspark.resultiterable.ResultIterable at 0x7f9ff4571eb0>),\n ('metus', <pyspark.resultiterable.ResultIterable at 0x7f9ff45715b0>),\n ('eget', <pyspark.resultiterable.ResultIterable at 0x7f9ff4571f70>),\n ('nulla', <pyspark.resultiterable.ResultIterable at 0x7f9ff4571fd0>),\n ('elementum.', <pyspark.resultiterable.ResultIterable at 0x7f9ff44fc040>),\n ('Sed', <pyspark.resultiterable.ResultIterable at 0x7f9ff44fc0d0>),\n ('scelerisque,', <pyspark.resultiterable.ResultIterable at 0x7f9ff44fc130>),\n ('justo', <pyspark.resultiterable.ResultIterable at 0x7f9ff44fc1c0>),\n ('commodo', <pyspark.resultiterable.ResultIterable at 0x7f9ff44fc220>),\n ('ante', <pyspark.resultiterable.ResultIterable at 0x7f9ff44fc280>),\n ('justo.', <pyspark.resultiterable.ResultIterable at 0x7f9ff44fc2e0>),\n ('Duis', <pyspark.resultiterable.ResultIterable at 0x7f9ff44fc340>),\n ('tellus,', <pyspark.resultiterable.ResultIterable at 0x7f9ff44fc3a0>),\n ('bibendum', <pyspark.resultiterable.ResultIterable at 0x7f9ff44fc400>),\n ('porttitor', <pyspark.resultiterable.ResultIterable at 0x7f9ff44fc460>),\n ('purus', <pyspark.resultiterable.ResultIterable at 0x7f9ff44fc4c0>),\n ('at.', <pyspark.resultiterable.ResultIterable at 0x7f9ff44fc520>),\n ('molestie', <pyspark.resultiterable.ResultIterable at 0x7f9ff44fc580>),\n ('ullamcorper', <pyspark.resultiterable.ResultIterable at 0x7f9ff44fc5e0>),\n ('lobortis', <pyspark.resultiterable.ResultIterable at 0x7f9ff44fc640>),\n ('amet.', <pyspark.resultiterable.ResultIterable at 0x7f9ff44fc6a0>),\n ('Donec', <pyspark.resultiterable.ResultIterable at 0x7f9ff44fc700>),\n ('est', <pyspark.resultiterable.ResultIterable at 0x7f9ff44fc760>),\n ('faucibus', <pyspark.resultiterable.ResultIterable at 0x7f9ff44fc7c0>),\n ('amet', <pyspark.resultiterable.ResultIterable at 0x7f9ff44fc820>),\n ('rutrum', <pyspark.resultiterable.ResultIterable at 0x7f9ff44fc880>),\n ('lacus.', <pyspark.resultiterable.ResultIterable at 0x7f9ff44fc8e0>),\n ('iaculis', <pyspark.resultiterable.ResultIterable at 0x7f9ff44fc940>),\n ('malesuada,', <pyspark.resultiterable.ResultIterable at 0x7f9ff44fc9a0>),\n ('magna', <pyspark.resultiterable.ResultIterable at 0x7f9ff44fca30>),\n ('malesuada', <pyspark.resultiterable.ResultIterable at 0x7f9ff44fca90>),\n ('enim.', <pyspark.resultiterable.ResultIterable at 0x7f9ff44fcaf0>),\n ('augue.', <pyspark.resultiterable.ResultIterable at 0x7f9ff44fcb80>),\n ('ultricies,', <pyspark.resultiterable.ResultIterable at 0x7f9ff44fcbe0>),\n ('quam', <pyspark.resultiterable.ResultIterable at 0x7fa0007842e0>),\n ('varius', <pyspark.resultiterable.ResultIterable at 0x7f9ff4571b20>),\n ('massa.', <pyspark.resultiterable.ResultIterable at 0x7f9ff4571a00>),\n ('Quisque', <pyspark.resultiterable.ResultIterable at 0x7f9ff4571a60>),\n ('scelerisque', <pyspark.resultiterable.ResultIterable at 0x7f9ff4571970>),\n ('Proin', <pyspark.resultiterable.ResultIterable at 0x7f9ff4571850>),\n ('cursus.', <pyspark.resultiterable.ResultIterable at 0x7f9ff4571820>),\n ('sagittis', <pyspark.resultiterable.ResultIterable at 0x7f9ff45716d0>),\n ('nunc', <pyspark.resultiterable.ResultIterable at 0x7f9ff4571220>),\n ('velit,', <pyspark.resultiterable.ResultIterable at 0x7f9ff45714f0>),\n ('lacinia', <pyspark.resultiterable.ResultIterable at 0x7f9ff4571fa0>),\n ('ligula.', <pyspark.resultiterable.ResultIterable at 0x7f9ff4571130>),\n ('augue', <pyspark.resultiterable.ResultIterable at 0x7f9ff4571430>),\n ('Orci', <pyspark.resultiterable.ResultIterable at 0x7f9ff4571280>),\n ('natoque', <pyspark.resultiterable.ResultIterable at 0x7f9ff45e4f10>),\n ('dis', <pyspark.resultiterable.ResultIterable at 0x7f9ff45e4d60>),\n ('nascetur', <pyspark.resultiterable.ResultIterable at 0x7f9ff45e44c0>),\n ('mus.', <pyspark.resultiterable.ResultIterable at 0x7f9ff45e4340>),\n ('Nam', <pyspark.resultiterable.ResultIterable at 0x7f9ff45e4d90>),\n ('sapien', <pyspark.resultiterable.ResultIterable at 0x7f9ff45e4a00>),\n ('mollis', <pyspark.resultiterable.ResultIterable at 0x7f9ff45e42b0>),\n ('convallis', <pyspark.resultiterable.ResultIterable at 0x7f9ff45e4430>),\n ('mollis.', <pyspark.resultiterable.ResultIterable at 0x7f9ff45e4af0>),\n ('diam', <pyspark.resultiterable.ResultIterable at 0x7f9ff44fcca0>),\n ('tellus', <pyspark.resultiterable.ResultIterable at 0x7f9ff44fcd00>),\n ('feugiat.', <pyspark.resultiterable.ResultIterable at 0x7f9ff44fcd60>),\n ('Pellentesque', <pyspark.resultiterable.ResultIterable at 0x7f9ff44fcdc0>),\n ('feugiat', <pyspark.resultiterable.ResultIterable at 0x7f9ff44fce20>),\n ('vulputate,', <pyspark.resultiterable.ResultIterable at 0x7f9ff44fce80>),\n ('erat', <pyspark.resultiterable.ResultIterable at 0x7f9ff44fcee0>),\n ('mattis', <pyspark.resultiterable.ResultIterable at 0x7f9ff44fcf40>),\n ('libero,', <pyspark.resultiterable.ResultIterable at 0x7f9ff44fcfa0>),\n ('odio', <pyspark.resultiterable.ResultIterable at 0x7f9ff4502070>),\n ('Cras', <pyspark.resultiterable.ResultIterable at 0x7f9ff45020d0>),\n ('fermentum,', <pyspark.resultiterable.ResultIterable at 0x7f9ff4502130>),\n ('molestie,', <pyspark.resultiterable.ResultIterable at 0x7f9ff4502190>),\n ('nibh', <pyspark.resultiterable.ResultIterable at 0x7f9ff4502220>),\n ('maximus', <pyspark.resultiterable.ResultIterable at 0x7f9ff4502280>),\n ('ipsum,', <pyspark.resultiterable.ResultIterable at 0x7f9ff45022e0>),\n ('lacus', <pyspark.resultiterable.ResultIterable at 0x7f9ff4502340>),\n ('neque.', <pyspark.resultiterable.ResultIterable at 0x7f9ff45023a0>),\n ('hac', <pyspark.resultiterable.ResultIterable at 0x7f9ff4502400>),\n ('habitasse', <pyspark.resultiterable.ResultIterable at 0x7f9ff4502460>),\n ('dictumst.', <pyspark.resultiterable.ResultIterable at 0x7f9ff45024c0>),\n ('interdum', <pyspark.resultiterable.ResultIterable at 0x7f9ff4502520>),\n ('quis', <pyspark.resultiterable.ResultIterable at 0x7f9ff4502580>),\n ('venenatis.', <pyspark.resultiterable.ResultIterable at 0x7f9ff45025e0>),\n ('sed', <pyspark.resultiterable.ResultIterable at 0x7f9ff4502640>),\n ('rhoncus', <pyspark.resultiterable.ResultIterable at 0x7f9ff45026a0>),\n ('nisi', <pyspark.resultiterable.ResultIterable at 0x7f9ff4502700>),\n ('dignissim.', <pyspark.resultiterable.ResultIterable at 0x7f9ff4502760>),\n ('Vestibulum', <pyspark.resultiterable.ResultIterable at 0x7f9ff45027f0>),\n ('eros,', <pyspark.resultiterable.ResultIterable at 0x7f9ff4502850>),\n ('Vivamus', <pyspark.resultiterable.ResultIterable at 0x7f9ff45028e0>),\n ('condimentum', <pyspark.resultiterable.ResultIterable at 0x7f9ff4502940>),\n ('sollicitudin', <pyspark.resultiterable.ResultIterable at 0x7f9ff45029a0>),\n ('nisi,', <pyspark.resultiterable.ResultIterable at 0x7f9ff4502a00>),\n ('ornare', <pyspark.resultiterable.ResultIterable at 0x7f9ff4502a60>),\n ('eget.', <pyspark.resultiterable.ResultIterable at 0x7f9ff4502ac0>),\n ('diam,', <pyspark.resultiterable.ResultIterable at 0x7f9ff4502b20>),\n ('Aenean', <pyspark.resultiterable.ResultIterable at 0x7f9ff4502b80>),\n ('augue,', <pyspark.resultiterable.ResultIterable at 0x7f9ff4502be0>),\n ('ipsum.', <pyspark.resultiterable.ResultIterable at 0x7f9ff4502c40>),\n ('et.', <pyspark.resultiterable.ResultIterable at 0x7f9ff4502ca0>),\n ('dapibus', <pyspark.resultiterable.ResultIterable at 0x7f9ff4502d00>),\n ('finibus', <pyspark.resultiterable.ResultIterable at 0x7f9ff4502d60>),\n ('est,', <pyspark.resultiterable.ResultIterable at 0x7f9ff4502dc0>),\n ('enim,', <pyspark.resultiterable.ResultIterable at 0x7f9ff4502e20>),\n ('ac,', <pyspark.resultiterable.ResultIterable at 0x7f9ff4502e80>),\n ('purus.', <pyspark.resultiterable.ResultIterable at 0x7f9ff4502ee0>),\n ('leo,', <pyspark.resultiterable.ResultIterable at 0x7f9ff4502f40>),\n ('vulputate', <pyspark.resultiterable.ResultIterable at 0x7f9ff4502fa0>),\n ('ante.', <pyspark.resultiterable.ResultIterable at 0x7f9ff4508040>),\n ('Interdum', <pyspark.resultiterable.ResultIterable at 0x7f9ff45080a0>),\n ('primis', <pyspark.resultiterable.ResultIterable at 0x7f9ff4508130>),\n ('urna', <pyspark.resultiterable.ResultIterable at 0x7f9ff4508190>),\n ('fringilla,', <pyspark.resultiterable.ResultIterable at 0x7f9ff45081f0>),\n ('lobortis,', <pyspark.resultiterable.ResultIterable at 0x7f9ff4508250>),\n ('lectus,', <pyspark.resultiterable.ResultIterable at 0x7f9ff45082e0>),\n ('congue.', <pyspark.resultiterable.ResultIterable at 0x7f9ff4508340>),\n ('bibendum.', <pyspark.resultiterable.ResultIterable at 0x7f9ff45083d0>),\n ('leo', <pyspark.resultiterable.ResultIterable at 0x7f9ff4508430>),\n ('volutpat,', <pyspark.resultiterable.ResultIterable at 0x7f9ff4508490>),\n ('convallis.', <pyspark.resultiterable.ResultIterable at 0x7f9ff45084f0>),\n ('Aliquam', <pyspark.resultiterable.ResultIterable at 0x7f9ff4508580>),\n ('suscipit', <pyspark.resultiterable.ResultIterable at 0x7f9ff45085e0>),\n ('venenatis', <pyspark.resultiterable.ResultIterable at 0x7f9ff4508640>),\n ('lorem.', <pyspark.resultiterable.ResultIterable at 0x7f9ff45086a0>),\n ('congue,', <pyspark.resultiterable.ResultIterable at 0x7f9ff4508700>),\n ('sodales', <pyspark.resultiterable.ResultIterable at 0x7f9ff4508790>),\n ('porta,', <pyspark.resultiterable.ResultIterable at 0x7f9ff45087f0>),\n ('sollicitudin.', <pyspark.resultiterable.ResultIterable at 0x7f9ff4508880>),\n ('laoreet,', <pyspark.resultiterable.ResultIterable at 0x7f9ff45088e0>),\n ('mauris.', <pyspark.resultiterable.ResultIterable at 0x7f9ff4508940>),\n ('felis', <pyspark.resultiterable.ResultIterable at 0x7f9ff45089a0>),\n ('accumsan.', <pyspark.resultiterable.ResultIterable at 0x7f9ff4508a00>),\n ('fringilla.', <pyspark.resultiterable.ResultIterable at 0x7f9ff4508a60>),\n ('commodo,', <pyspark.resultiterable.ResultIterable at 0x7f9ff4508ac0>),\n ('lacinia.', <pyspark.resultiterable.ResultIterable at 0x7f9ff4508b20>),\n ('dui.', <pyspark.resultiterable.ResultIterable at 0x7f9ff4508bb0>),\n ('potenti.', <pyspark.resultiterable.ResultIterable at 0x7f9ff4508c10>),\n ('facilisi.', <pyspark.resultiterable.ResultIterable at 0x7f9ff4508c70>),\n ('ex,', <pyspark.resultiterable.ResultIterable at 0x7f9ff4508d00>),\n ('cubilia', <pyspark.resultiterable.ResultIterable at 0x7f9ff4508d90>),\n ('curae;', <pyspark.resultiterable.ResultIterable at 0x7f9ff4508e20>),\n ('habitant', <pyspark.resultiterable.ResultIterable at 0x7f9ff4508eb0>),\n ('facilisis.', <pyspark.resultiterable.ResultIterable at 0x7f9ff4508f10>),\n ('lorem,', <pyspark.resultiterable.ResultIterable at 0x7f9ff4508fa0>),\n ('congue', <pyspark.resultiterable.ResultIterable at 0x7f9ff450c040>),\n ('condimentum.', <pyspark.resultiterable.ResultIterable at 0x7f9ff450c0a0>),\n ('dictum', <pyspark.resultiterable.ResultIterable at 0x7f9ff450c100>),\n ('condimentum,', <pyspark.resultiterable.ResultIterable at 0x7f9ff450c160>),\n ('sapien,', <pyspark.resultiterable.ResultIterable at 0x7f9ff450c1f0>),\n ('dui,', <pyspark.resultiterable.ResultIterable at 0x7f9ff450c250>),\n ('ut.', <pyspark.resultiterable.ResultIterable at 0x7f9ff450c2b0>),\n ('mi,', <pyspark.resultiterable.ResultIterable at 0x7f9ff450c340>),\n ('pellentesque,', <pyspark.resultiterable.ResultIterable at 0x7f9ff450c3a0>),\n ('et,', <pyspark.resultiterable.ResultIterable at 0x7f9ff450c400>),\n ('pharetra.', <pyspark.resultiterable.ResultIterable at 0x7f9ff450c460>),\n ('pellentesque', <pyspark.resultiterable.ResultIterable at 0x7f9ff450c4f0>),\n ('interdum.', <pyspark.resultiterable.ResultIterable at 0x7f9ff450c550>),\n ('pulvinar.', <pyspark.resultiterable.ResultIterable at 0x7f9ff450c5e0>),\n ('scelerisque.', <pyspark.resultiterable.ResultIterable at 0x7f9ff450c640>),\n ('venenatis,', <pyspark.resultiterable.ResultIterable at 0x7f9ff450c6d0>),\n ('placerat,', <pyspark.resultiterable.ResultIterable at 0x7f9ff450c730>),\n ('eget,', <pyspark.resultiterable.ResultIterable at 0x7f9ff450c790>),\n ('posuere.', <pyspark.resultiterable.ResultIterable at 0x7f9ff450c7f0>),\n ('ligula,', <pyspark.resultiterable.ResultIterable at 0x7f9ff450c850>),\n ('vel,', <pyspark.resultiterable.ResultIterable at 0x7f9ff450c8e0>),\n ('tincidunt.', <pyspark.resultiterable.ResultIterable at 0x7f9ff450c970>),\n ('ultricies.', <pyspark.resultiterable.ResultIterable at 0x7f9ff450c9d0>),\n ('volutpat.', <pyspark.resultiterable.ResultIterable at 0x7f9ff450ca60>),\n ('non,', <pyspark.resultiterable.ResultIterable at 0x7f9ff450cac0>),\n ('Class', <pyspark.resultiterable.ResultIterable at 0x7f9ff450cb20>),\n ('litora', <pyspark.resultiterable.ResultIterable at 0x7f9ff450cb80>),\n ('conubia', <pyspark.resultiterable.ResultIterable at 0x7f9ff450cbe0>),\n ('nostra,', <pyspark.resultiterable.ResultIterable at 0x7f9ff450cc40>),\n ('inceptos', <pyspark.resultiterable.ResultIterable at 0x7f9ff450cca0>),\n ('cursus', <pyspark.resultiterable.ResultIterable at 0x7f9ff450cd00>),\n ('rutrum.', <pyspark.resultiterable.ResultIterable at 0x7f9ff450cd60>),\n ('sodales.', <pyspark.resultiterable.ResultIterable at 0x7f9ff450cdf0>),\n ('nibh.', <pyspark.resultiterable.ResultIterable at 0x7f9ff450ce80>),\n ('commodo.', <pyspark.resultiterable.ResultIterable at 0x7f9ff450cee0>),\n ('accumsan,', <pyspark.resultiterable.ResultIterable at 0x7f9ff450cf70>),\n ('nunc.', <pyspark.resultiterable.ResultIterable at 0x7f9ff4510040>),\n ('interdum,', <pyspark.resultiterable.ResultIterable at 0x7f9ff45100a0>),\n ('egestas,', <pyspark.resultiterable.ResultIterable at 0x7f9ff4510130>),\n ('faucibus,', <pyspark.resultiterable.ResultIterable at 0x7f9ff4510190>),\n ('pretium.', <pyspark.resultiterable.ResultIterable at 0x7f9ff4510220>),\n ('tempus,', <pyspark.resultiterable.ResultIterable at 0x7f9ff4510280>),\n ('erat.', <pyspark.resultiterable.ResultIterable at 0x7f9ff45102e0>),\n ('luctus,', <pyspark.resultiterable.ResultIterable at 0x7f9ff4510340>),\n ('sed,', <pyspark.resultiterable.ResultIterable at 0x7f9ff45103a0>),\n ('ornare,', <pyspark.resultiterable.ResultIterable at 0x7f9ff4510400>),\n ('iaculis.', <pyspark.resultiterable.ResultIterable at 0x7f9ff4510490>),\n ('convallis,', <pyspark.resultiterable.ResultIterable at 0x7f9ff4510520>),\n ('sapien.', <pyspark.resultiterable.ResultIterable at 0x7f9ff45105b0>),\n ('pharetra,', <pyspark.resultiterable.ResultIterable at 0x7f9ff4510610>),\n ('ornare.', <pyspark.resultiterable.ResultIterable at 0x7f9ff45106a0>),\n ('gravida.', <pyspark.resultiterable.ResultIterable at 0x7f9ff4510730>),\n ('orci,', <pyspark.resultiterable.ResultIterable at 0x7f9ff45107c0>),\n ('bibendum,', <pyspark.resultiterable.ResultIterable at 0x7f9ff4510820>),\n ('ac.', <pyspark.resultiterable.ResultIterable at 0x7f9ff45108b0>),\n ('vulputate.', <pyspark.resultiterable.ResultIterable at 0x7f9ff4510940>),\n ('felis.', <pyspark.resultiterable.ResultIterable at 0x7f9ff45109d0>),\n ('ut,', <pyspark.resultiterable.ResultIterable at 0x7f9ff4510a60>),\n ('quis.', <pyspark.resultiterable.ResultIterable at 0x7f9ff4510af0>),\n ('eleifend,', <pyspark.resultiterable.ResultIterable at 0x7f9ff4510b80>),\n ('dolor,', <pyspark.resultiterable.ResultIterable at 0x7f9ff4510be0>),\n ('viverra,', <pyspark.resultiterable.ResultIterable at 0x7f9ff4510c40>),\n ('rutrum,', <pyspark.resultiterable.ResultIterable at 0x7f9ff4510ca0>),\n ('dictum.', <pyspark.resultiterable.ResultIterable at 0x7f9ff4510d30>),\n ('euismod,', <pyspark.resultiterable.ResultIterable at 0x7f9ff4510d90>),\n ('mattis,', <pyspark.resultiterable.ResultIterable at 0x7f9ff4510df0>),\n ('suscipit.', <pyspark.resultiterable.ResultIterable at 0x7f9ff4510e80>),\n ('turpis,', <pyspark.resultiterable.ResultIterable at 0x7f9ff4510f10>),\n ('auctor,', <pyspark.resultiterable.ResultIterable at 0x7f9ff4510f70>),\n ('dolor', <pyspark.resultiterable.ResultIterable at 0x7f9ff4510fd0>),\n ('sit', <pyspark.resultiterable.ResultIterable at 0x7f9ff4515070>),\n ('amet,', <pyspark.resultiterable.ResultIterable at 0x7f9ff45150d0>),\n ('adipiscing', <pyspark.resultiterable.ResultIterable at 0x7f9ff4515160>),\n ('tempor', <pyspark.resultiterable.ResultIterable at 0x7f9ff4515190>),\n ('tortor.', <pyspark.resultiterable.ResultIterable at 0x7f9ff45151f0>),\n ('Suspendisse', <pyspark.resultiterable.ResultIterable at 0x7f9ff4515250>),\n ('nec', <pyspark.resultiterable.ResultIterable at 0x7f9ff45152b0>),\n ('ultrices', <pyspark.resultiterable.ResultIterable at 0x7f9ff4515310>),\n ('Etiam', <pyspark.resultiterable.ResultIterable at 0x7f9ff4515370>),\n ('non', <pyspark.resultiterable.ResultIterable at 0x7f9ff45153d0>),\n ('egestas', <pyspark.resultiterable.ResultIterable at 0x7f9ff4515430>),\n ('mi.', <pyspark.resultiterable.ResultIterable at 0x7f9ff4515490>),\n ('Nulla', <pyspark.resultiterable.ResultIterable at 0x7f9ff45154f0>),\n ('massa,', <pyspark.resultiterable.ResultIterable at 0x7f9ff4515550>),\n ('auctor', <pyspark.resultiterable.ResultIterable at 0x7f9ff45155b0>),\n ('accumsan', <pyspark.resultiterable.ResultIterable at 0x7f9ff4515610>),\n ('id,', <pyspark.resultiterable.ResultIterable at 0x7f9ff4515670>),\n ('hendrerit', <pyspark.resultiterable.ResultIterable at 0x7f9ff45156d0>),\n ('enim', <pyspark.resultiterable.ResultIterable at 0x7f9ff4515730>),\n ('viverra', <pyspark.resultiterable.ResultIterable at 0x7f9ff4515790>),\n ('euismod', <pyspark.resultiterable.ResultIterable at 0x7f9ff45157f0>),\n ('risus', <pyspark.resultiterable.ResultIterable at 0x7f9ff4515850>),\n ('varius.', <pyspark.resultiterable.ResultIterable at 0x7f9ff45158b0>),\n ('luctus', <pyspark.resultiterable.ResultIterable at 0x7f9ff4515910>),\n ('cursus,', <pyspark.resultiterable.ResultIterable at 0x7f9ff4515970>),\n ('eros', <pyspark.resultiterable.ResultIterable at 0x7f9ff45159d0>),\n ('tortor', <pyspark.resultiterable.ResultIterable at 0x7f9ff4515a30>),\n ('nulla,', <pyspark.resultiterable.ResultIterable at 0x7f9ff4515a90>),\n ('volutpat', <pyspark.resultiterable.ResultIterable at 0x7f9ff4515af0>),\n ('dui', <pyspark.resultiterable.ResultIterable at 0x7f9ff4515b50>),\n ('blandit', <pyspark.resultiterable.ResultIterable at 0x7f9ff4515bb0>),\n ('at,', <pyspark.resultiterable.ResultIterable at 0x7f9ff4515c10>),\n ('nulla.', <pyspark.resultiterable.ResultIterable at 0x7f9ff4515c70>),\n ('vestibulum', <pyspark.resultiterable.ResultIterable at 0x7f9ff4515cd0>),\n ('purus,', <pyspark.resultiterable.ResultIterable at 0x7f9ff4515d30>),\n ('semper', <pyspark.resultiterable.ResultIterable at 0x7f9ff4515dc0>),\n ('quam,', <pyspark.resultiterable.ResultIterable at 0x7f9ff4515e20>),\n ('sem.', <pyspark.resultiterable.ResultIterable at 0x7f9ff4515eb0>),\n ('Praesent', <pyspark.resultiterable.ResultIterable at 0x7f9ff4515f10>),\n ('efficitur', <pyspark.resultiterable.ResultIterable at 0x7f9ff4515f70>),\n ('dignissim', <pyspark.resultiterable.ResultIterable at 0x7f9ff4515fd0>),\n ('erat,', <pyspark.resultiterable.ResultIterable at 0x7f9ff4518070>),\n ('pharetra', <pyspark.resultiterable.ResultIterable at 0x7f9ff45180d0>),\n ('consequat', <pyspark.resultiterable.ResultIterable at 0x7f9ff4518130>),\n ('Phasellus', <pyspark.resultiterable.ResultIterable at 0x7f9ff4518190>),\n ('tincidunt,', <pyspark.resultiterable.ResultIterable at 0x7f9ff45181f0>),\n ('sem,', <pyspark.resultiterable.ResultIterable at 0x7f9ff4518250>),\n ('mauris', <pyspark.resultiterable.ResultIterable at 0x7f9ff45182e0>),\n ('massa', <pyspark.resultiterable.ResultIterable at 0x7f9ff4518340>),\n ('ligula', <pyspark.resultiterable.ResultIterable at 0x7f9ff45183a0>),\n ('gravida', <pyspark.resultiterable.ResultIterable at 0x7f9ff4518400>),\n ('nisl.', <pyspark.resultiterable.ResultIterable at 0x7f9ff4518460>),\n ('aliquet', <pyspark.resultiterable.ResultIterable at 0x7f9ff45184c0>),\n ('Mauris', <pyspark.resultiterable.ResultIterable at 0x7f9ff4518520>),\n ('odio.', <pyspark.resultiterable.ResultIterable at 0x7f9ff4518580>),\n ('vel', <pyspark.resultiterable.ResultIterable at 0x7f9ff45185e0>),\n ('arcu', <pyspark.resultiterable.ResultIterable at 0x7f9ff4518640>),\n ('penatibus', <pyspark.resultiterable.ResultIterable at 0x7f9ff45186a0>),\n ('magnis', <pyspark.resultiterable.ResultIterable at 0x7f9ff4518730>),\n ('parturient', <pyspark.resultiterable.ResultIterable at 0x7f9ff45187c0>),\n ('montes,', <pyspark.resultiterable.ResultIterable at 0x7f9ff4518850>),\n ('ridiculus', <pyspark.resultiterable.ResultIterable at 0x7f9ff45188e0>),\n ('velit', <pyspark.resultiterable.ResultIterable at 0x7f9ff4518970>),\n ('vestibulum,', <pyspark.resultiterable.ResultIterable at 0x7f9ff45189d0>),\n ('faucibus.', <pyspark.resultiterable.ResultIterable at 0x7f9ff4518a60>),\n ('nisl', <pyspark.resultiterable.ResultIterable at 0x7f9ff4518ac0>),\n ('facilisis', <pyspark.resultiterable.ResultIterable at 0x7f9ff4518b20>),\n ('ultrices,', <pyspark.resultiterable.ResultIterable at 0x7f9ff4518b80>),\n ('ante,', <pyspark.resultiterable.ResultIterable at 0x7f9ff4518be0>),\n ('platea', <pyspark.resultiterable.ResultIterable at 0x7f9ff4518c40>),\n ('nibh,', <pyspark.resultiterable.ResultIterable at 0x7f9ff4518ca0>),\n ('vel.', <pyspark.resultiterable.ResultIterable at 0x7f9ff4518d00>),\n ('orci', <pyspark.resultiterable.ResultIterable at 0x7f9ff4518d60>),\n ('tincidunt', <pyspark.resultiterable.ResultIterable at 0x7f9ff4518dc0>),\n ('orci.', <pyspark.resultiterable.ResultIterable at 0x7f9ff4518e20>),\n ('Integer', <pyspark.resultiterable.ResultIterable at 0x7f9ff4518e80>),\n ('placerat', <pyspark.resultiterable.ResultIterable at 0x7f9ff4518ee0>),\n ('tristique', <pyspark.resultiterable.ResultIterable at 0x7f9ff4518f40>),\n ('pulvinar', <pyspark.resultiterable.ResultIterable at 0x7f9ff4518fa0>),\n ('in.', <pyspark.resultiterable.ResultIterable at 0x7f9ff451b040>),\n ('elementum', <pyspark.resultiterable.ResultIterable at 0x7f9ff451b0a0>),\n ('pretium', <pyspark.resultiterable.ResultIterable at 0x7f9ff451b100>),\n ('libero.', <pyspark.resultiterable.ResultIterable at 0x7f9ff451b160>),\n ('leo.', <pyspark.resultiterable.ResultIterable at 0x7f9ff451b1c0>),\n ('neque', <pyspark.resultiterable.ResultIterable at 0x7f9ff451b220>),\n ('molestie.', <pyspark.resultiterable.ResultIterable at 0x7f9ff451b280>),\n ('metus,', <pyspark.resultiterable.ResultIterable at 0x7f9ff451b2e0>),\n ('sagittis.', <pyspark.resultiterable.ResultIterable at 0x7f9ff451b340>),\n ('posuere', <pyspark.resultiterable.ResultIterable at 0x7f9ff451b3a0>),\n ('laoreet', <pyspark.resultiterable.ResultIterable at 0x7f9ff451b400>),\n ('Fusce', <pyspark.resultiterable.ResultIterable at 0x7f9ff451b460>),\n ('elit', <pyspark.resultiterable.ResultIterable at 0x7f9ff451b4c0>),\n ('nec,', <pyspark.resultiterable.ResultIterable at 0x7f9ff451b520>),\n ('imperdiet', <pyspark.resultiterable.ResultIterable at 0x7f9ff451b580>),\n ('Nullam', <pyspark.resultiterable.ResultIterable at 0x7f9ff451b5e0>),\n ('turpis', <pyspark.resultiterable.ResultIterable at 0x7f9ff451b640>),\n ('aliquam', <pyspark.resultiterable.ResultIterable at 0x7f9ff451b6a0>),\n ('dignissim,', <pyspark.resultiterable.ResultIterable at 0x7f9ff451b700>),\n ('nisl,', <pyspark.resultiterable.ResultIterable at 0x7f9ff451b790>),\n ('fames', <pyspark.resultiterable.ResultIterable at 0x7f9ff451b7f0>),\n ('ultrices.', <pyspark.resultiterable.ResultIterable at 0x7f9ff451b850>),\n ('sem', <pyspark.resultiterable.ResultIterable at 0x7f9ff451b8e0>),\n ('eleifend', <pyspark.resultiterable.ResultIterable at 0x7f9ff451b940>),\n ('nisi.', <pyspark.resultiterable.ResultIterable at 0x7f9ff451b9a0>),\n ('magna,', <pyspark.resultiterable.ResultIterable at 0x7f9ff451ba00>),\n ('non.', <pyspark.resultiterable.ResultIterable at 0x7f9ff451ba60>),\n ('tempus', <pyspark.resultiterable.ResultIterable at 0x7f9ff451bac0>),\n ('urna.', <pyspark.resultiterable.ResultIterable at 0x7f9ff451bb20>),\n ('porta', <pyspark.resultiterable.ResultIterable at 0x7f9ff451bb80>),\n ('dolor.', <pyspark.resultiterable.ResultIterable at 0x7f9ff451bbe0>),\n ('Curabitur', <pyspark.resultiterable.ResultIterable at 0x7f9ff451bc40>),\n ('ultricies', <pyspark.resultiterable.ResultIterable at 0x7f9ff451bca0>),\n ('euismod.', <pyspark.resultiterable.ResultIterable at 0x7f9ff451bd00>),\n ('placerat.', <pyspark.resultiterable.ResultIterable at 0x7f9ff451bd90>),\n ('turpis.', <pyspark.resultiterable.ResultIterable at 0x7f9ff451be20>),\n ('egestas.', <pyspark.resultiterable.ResultIterable at 0x7f9ff451be80>),\n ('eu,', <pyspark.resultiterable.ResultIterable at 0x7f9ff451bee0>),\n ('magna.', <pyspark.resultiterable.ResultIterable at 0x7f9ff451bf40>),\n ('malesuada.', <pyspark.resultiterable.ResultIterable at 0x7f9ff451bfd0>),\n ('eros.', <pyspark.resultiterable.ResultIterable at 0x7f9ff45210a0>),\n ('mattis.', <pyspark.resultiterable.ResultIterable at 0x7f9ff4521100>),\n ('Morbi', <pyspark.resultiterable.ResultIterable at 0x7f9ff4521190>),\n ('felis,', <pyspark.resultiterable.ResultIterable at 0x7f9ff45211f0>),\n ('diam.', <pyspark.resultiterable.ResultIterable at 0x7f9ff4521280>),\n ('hendrerit,', <pyspark.resultiterable.ResultIterable at 0x7f9ff45212e0>),\n ('lacus,', <pyspark.resultiterable.ResultIterable at 0x7f9ff4521340>),\n ('facilisis,', <pyspark.resultiterable.ResultIterable at 0x7f9ff45213a0>),\n ('velit.', <pyspark.resultiterable.ResultIterable at 0x7f9ff4521430>),\n ('nunc,', <pyspark.resultiterable.ResultIterable at 0x7f9ff4521490>),\n ('id.', <pyspark.resultiterable.ResultIterable at 0x7f9ff4521520>),\n ('est.', <pyspark.resultiterable.ResultIterable at 0x7f9ff45215b0>),\n ('morbi', <pyspark.resultiterable.ResultIterable at 0x7f9ff4521640>),\n ('senectus', <pyspark.resultiterable.ResultIterable at 0x7f9ff45216a0>),\n ('netus', <pyspark.resultiterable.ResultIterable at 0x7f9ff4521700>),\n ('vestibulum.', <pyspark.resultiterable.ResultIterable at 0x7f9ff4521760>),\n ('gravida,', <pyspark.resultiterable.ResultIterable at 0x7f9ff45217c0>),\n ('hendrerit.', <pyspark.resultiterable.ResultIterable at 0x7f9ff4521820>),\n ('aliquam.', <pyspark.resultiterable.ResultIterable at 0x7f9ff45218b0>),\n ('maximus.', <pyspark.resultiterable.ResultIterable at 0x7f9ff4521940>),\n ('lectus.', <pyspark.resultiterable.ResultIterable at 0x7f9ff45219d0>),\n ('odio,', <pyspark.resultiterable.ResultIterable at 0x7f9ff4521a30>),\n ('semper.', <pyspark.resultiterable.ResultIterable at 0x7f9ff4521a90>),\n ('risus.', <pyspark.resultiterable.ResultIterable at 0x7f9ff4521b20>),\n ('in,', <pyspark.resultiterable.ResultIterable at 0x7f9ff4521b80>),\n ('finibus.', <pyspark.resultiterable.ResultIterable at 0x7f9ff4521c10>),\n ('lorem', <pyspark.resultiterable.ResultIterable at 0x7f9ff4521ca0>),\n ('libero', <pyspark.resultiterable.ResultIterable at 0x7f9ff4521d00>),\n ('justo,', <pyspark.resultiterable.ResultIterable at 0x7f9ff4521d60>),\n ('neque,', <pyspark.resultiterable.ResultIterable at 0x7f9ff4521dc0>),\n ('risus,', <pyspark.resultiterable.ResultIterable at 0x7f9ff4521e50>),\n ('nec.', <pyspark.resultiterable.ResultIterable at 0x7f9ff4521ee0>),\n ('ullamcorper,', <pyspark.resultiterable.ResultIterable at 0x7f9ff4521f70>),\n ('consectetur,', <pyspark.resultiterable.ResultIterable at 0x7f9ff4521fd0>),\n ('rhoncus.', <pyspark.resultiterable.ResultIterable at 0x7f9ff45240a0>),\n ('vitae.', <pyspark.resultiterable.ResultIterable at 0x7f9ff4524100>),\n ('tellus.', <pyspark.resultiterable.ResultIterable at 0x7f9ff4524160>),\n ('elit,', <pyspark.resultiterable.ResultIterable at 0x7f9ff45241c0>),\n ('quis,', <pyspark.resultiterable.ResultIterable at 0x7f9ff4524220>),\n ('laoreet.', <pyspark.resultiterable.ResultIterable at 0x7f9ff4524280>),\n ('lobortis.', <pyspark.resultiterable.ResultIterable at 0x7f9ff45242e0>),\n ('consectetur.', <pyspark.resultiterable.ResultIterable at 0x7f9ff4524370>),\n ('vehicula', <pyspark.resultiterable.ResultIterable at 0x7f9ff45243d0>),\n ('tortor,', <pyspark.resultiterable.ResultIterable at 0x7f9ff4524430>),\n ('fermentum.', <pyspark.resultiterable.ResultIterable at 0x7f9ff4524490>),\n ('efficitur.', <pyspark.resultiterable.ResultIterable at 0x7f9ff4524520>),\n ('aptent', <pyspark.resultiterable.ResultIterable at 0x7f9ff4524580>),\n ('taciti', <pyspark.resultiterable.ResultIterable at 0x7f9ff45245e0>),\n ('sociosqu', <pyspark.resultiterable.ResultIterable at 0x7f9ff4524640>),\n ('torquent', <pyspark.resultiterable.ResultIterable at 0x7f9ff45246a0>),\n ('per', <pyspark.resultiterable.ResultIterable at 0x7f9ff4524700>),\n ('himenaeos.', <pyspark.resultiterable.ResultIterable at 0x7f9ff4524760>),\n ('arcu,', <pyspark.resultiterable.ResultIterable at 0x7f9ff45247c0>),\n ('eu.', <pyspark.resultiterable.ResultIterable at 0x7f9ff4524850>),\n ('sed.', <pyspark.resultiterable.ResultIterable at 0x7f9ff45248e0>),\n ('porta.', <pyspark.resultiterable.ResultIterable at 0x7f9ff4524940>),\n ('semper,', <pyspark.resultiterable.ResultIterable at 0x7f9ff45249a0>),\n ('blandit.', <pyspark.resultiterable.ResultIterable at 0x7f9ff4524a30>),\n ('aliquet,', <pyspark.resultiterable.ResultIterable at 0x7f9ff4524a90>),\n ('auctor.', <pyspark.resultiterable.ResultIterable at 0x7f9ff4524af0>),\n ('blandit,', <pyspark.resultiterable.ResultIterable at 0x7f9ff4524b80>),\n ('mollis,', <pyspark.resultiterable.ResultIterable at 0x7f9ff4524be0>),\n ('tempor.', <pyspark.resultiterable.ResultIterable at 0x7f9ff4524c40>),\n ('pellentesque.', <pyspark.resultiterable.ResultIterable at 0x7f9ff4524ca0>),\n ('aliquam,', <pyspark.resultiterable.ResultIterable at 0x7f9ff4524d00>),\n ('posuere,', <pyspark.resultiterable.ResultIterable at 0x7f9ff4524d60>),\n ('dapibus.', <pyspark.resultiterable.ResultIterable at 0x7f9ff4524df0>),\n ('sagittis,', <pyspark.resultiterable.ResultIterable at 0x7f9ff4524e50>),\n ('urna,', <pyspark.resultiterable.ResultIterable at 0x7f9ff4524eb0>),\n ('viverra.', <pyspark.resultiterable.ResultIterable at 0x7f9ff4524f10>),\n ('tristique.', <pyspark.resultiterable.ResultIterable at 0x7f9ff4524f70>),\n ('imperdiet.', <pyspark.resultiterable.ResultIterable at 0x7f9ff4528040>),\n ('quam.', <pyspark.resultiterable.ResultIterable at 0x7f9ff45280d0>),\n ('vitae,', <pyspark.resultiterable.ResultIterable at 0x7f9ff4528130>),\n ('porttitor.', <pyspark.resultiterable.ResultIterable at 0x7f9ff4528190>),\n ('tristique,', <pyspark.resultiterable.ResultIterable at 0x7f9ff4528220>),\n ('sodales,', <pyspark.resultiterable.ResultIterable at 0x7f9ff45282b0>),\n ('feugiat,', <pyspark.resultiterable.ResultIterable at 0x7f9ff4528340>),\n ('luctus.', <pyspark.resultiterable.ResultIterable at 0x7f9ff45283d0>),\n ('eleifend.', <pyspark.resultiterable.ResultIterable at 0x7f9ff4528460>),\n ('rhoncus,', <pyspark.resultiterable.ResultIterable at 0x7f9ff45284f0>),\n ('lacinia,', <pyspark.resultiterable.ResultIterable at 0x7f9ff4528580>),\n ('aliquet.', <pyspark.resultiterable.ResultIterable at 0x7f9ff45285e0>),\n ('tempus.', <pyspark.resultiterable.ResultIterable at 0x7f9ff4528670>),\n ('metus.', <pyspark.resultiterable.ResultIterable at 0x7f9ff45286d0>),\n ('vehicula.', <pyspark.resultiterable.ResultIterable at 0x7f9ff4528760>),\n ('pretium,', <pyspark.resultiterable.ResultIterable at 0x7f9ff45287f0>),\n ('iaculis,', <pyspark.resultiterable.ResultIterable at 0x7f9ff4528880>),\n ('maximus,', <pyspark.resultiterable.ResultIterable at 0x7f9ff45288e0>),\n ('efficitur,', <pyspark.resultiterable.ResultIterable at 0x7f9ff4528970>),\n ('ullamcorper.', <pyspark.resultiterable.ResultIterable at 0x7f9ff4528a00>),\n ('finibus,', <pyspark.resultiterable.ResultIterable at 0x7f9ff4528a90>),\n ('vehicula,', <pyspark.resultiterable.ResultIterable at 0x7f9ff4528af0>),\n ('arcu.', <pyspark.resultiterable.ResultIterable at 0x7f9ff4528b50>),\n ('dictum,', <pyspark.resultiterable.ResultIterable at 0x7f9ff4528be0>),\n ('porttitor,', <pyspark.resultiterable.ResultIterable at 0x7f9ff4528c40>)]"
     },
     "execution_count": 9,
     "metadata": {},
     "output_type": "execute_result"
    }
   ],
   "source": [
    "phase_three =  phase_two.groupByKey()\n",
    "phase_three.collect()\n",
    "# phase_three.map(lambda x:f\"{x[0]} : Count {len(x[1])}\").collect()"
   ]
  },
  {
   "cell_type": "code",
   "execution_count": 10,
   "metadata": {
    "pycharm": {
     "name": "#%%\n"
    }
   },
   "outputs": [
    {
     "data": {
      "text/plain": "[('Lorem', 7),\n ('ipsum', 33),\n ('consectetur', 21),\n ('elit.', 15),\n ('Nunc', 17),\n ('vitae', 54),\n ('ex.', 9),\n ('fringilla', 23),\n ('lectus', 21),\n ('fermentum', 17),\n ('consequat.', 5),\n ('Maecenas', 18),\n ('metus', 21),\n ('eget', 46),\n ('nulla', 23),\n ('elementum.', 2),\n ('Sed', 38),\n ('scelerisque,', 3),\n ('justo', 26),\n ('commodo', 21),\n ('ante', 24),\n ('justo.', 5),\n ('Duis', 16),\n ('tellus,', 4),\n ('bibendum', 21),\n ('porttitor', 13),\n ('purus', 19),\n ('at.', 5),\n ('molestie', 18),\n ('ullamcorper', 24),\n ('lobortis', 15),\n ('amet.', 9),\n ('Donec', 37),\n ('est', 20),\n ('faucibus', 24),\n ('amet', 41),\n ('rutrum', 21),\n ('lacus.', 9),\n ('iaculis', 13),\n ('malesuada,', 3),\n ('magna', 20),\n ('malesuada', 21),\n ('enim.', 3),\n ('augue.', 9),\n ('ultricies,', 2),\n ('quam', 14),\n ('varius', 23),\n ('massa.', 12),\n ('Quisque', 27),\n ('scelerisque', 17),\n ('Proin', 23),\n ('cursus.', 3),\n ('sagittis', 17),\n ('nunc', 23),\n ('velit,', 10),\n ('lacinia', 21),\n ('ligula.', 9),\n ('augue', 23),\n ('Orci', 2),\n ('natoque', 2),\n ('dis', 2),\n ('nascetur', 2),\n ('mus.', 2),\n ('Nam', 20),\n ('sapien', 12),\n ('mollis', 21),\n ('convallis', 24),\n ('mollis.', 4),\n ('diam', 19),\n ('tellus', 16),\n ('feugiat.', 4),\n ('Pellentesque', 30),\n ('feugiat', 22),\n ('vulputate,', 1),\n ('erat', 20),\n ('mattis', 12),\n ('libero,', 3),\n ('odio', 13),\n ('Cras', 13),\n ('fermentum,', 4),\n ('molestie,', 2),\n ('nibh', 22),\n ('maximus', 17),\n ('ipsum,', 4),\n ('lacus', 15),\n ('neque.', 4),\n ('hac', 4),\n ('habitasse', 4),\n ('dictumst.', 4),\n ('interdum', 17),\n ('quis', 42),\n ('venenatis.', 5),\n ('sed', 40),\n ('rhoncus', 18),\n ('nisi', 20),\n ('dignissim.', 3),\n ('Vestibulum', 24),\n ('eros,', 3),\n ('Vivamus', 17),\n ('condimentum', 17),\n ('sollicitudin', 17),\n ('nisi,', 7),\n ('ornare', 13),\n ('eget.', 8),\n ('diam,', 4),\n ('Aenean', 20),\n ('augue,', 7),\n ('ipsum.', 4),\n ('et.', 6),\n ('dapibus', 23),\n ('finibus', 18),\n ('est,', 7),\n ('enim,', 1),\n ('ac,', 8),\n ('purus.', 7),\n ('leo,', 4),\n ('vulputate', 17),\n ('ante.', 5),\n ('Interdum', 3),\n ('primis', 5),\n ('urna', 15),\n ('fringilla,', 5),\n ('lobortis,', 2),\n ('lectus,', 4),\n ('congue.', 2),\n ('bibendum.', 5),\n ('leo', 17),\n ('volutpat,', 4),\n ('convallis.', 3),\n ('Aliquam', 25),\n ('suscipit', 12),\n ('venenatis', 23),\n ('lorem.', 6),\n ('congue,', 2),\n ('sodales', 15),\n ('porta,', 3),\n ('sollicitudin.', 7),\n ('laoreet,', 4),\n ('mauris.', 8),\n ('felis', 17),\n ('accumsan.', 8),\n ('fringilla.', 6),\n ('commodo,', 4),\n ('lacinia.', 2),\n ('dui.', 8),\n ('potenti.', 4),\n ('facilisi.', 3),\n ('ex,', 2),\n ('cubilia', 2),\n ('curae;', 2),\n ('habitant', 8),\n ('facilisis.', 2),\n ('lorem,', 4),\n ('congue', 13),\n ('condimentum.', 1),\n ('dictum', 14),\n ('condimentum,', 2),\n ('sapien,', 4),\n ('dui,', 4),\n ('ut.', 3),\n ('mi,', 6),\n ('pellentesque,', 4),\n ('et,', 6),\n ('pharetra.', 3),\n ('pellentesque', 15),\n ('interdum.', 3),\n ('pulvinar.', 4),\n ('scelerisque.', 3),\n ('venenatis,', 1),\n ('placerat,', 1),\n ('eget,', 7),\n ('posuere.', 5),\n ('ligula,', 2),\n ('vel,', 2),\n ('tincidunt.', 5),\n ('ultricies.', 2),\n ('volutpat.', 5),\n ('non,', 4),\n ('Class', 6),\n ('litora', 6),\n ('conubia', 6),\n ('nostra,', 6),\n ('inceptos', 6),\n ('cursus', 11),\n ('rutrum.', 3),\n ('sodales.', 3),\n ('nibh.', 6),\n ('commodo.', 2),\n ('accumsan,', 2),\n ('nunc.', 5),\n ('interdum,', 3),\n ('egestas,', 1),\n ('faucibus,', 2),\n ('pretium.', 4),\n ('tempus,', 1),\n ('erat.', 8),\n ('luctus,', 1),\n ('sed,', 4),\n ('ornare,', 2),\n ('iaculis.', 3),\n ('convallis,', 2),\n ('sapien.', 5),\n ('pharetra,', 2),\n ('ornare.', 2),\n ('gravida.', 2),\n ('orci,', 1),\n ('bibendum,', 3),\n ('ac.', 3),\n ('vulputate.', 2),\n ('felis.', 3),\n ('ut,', 3),\n ('quis.', 2),\n ('eleifend,', 1),\n ('dolor,', 4),\n ('viverra,', 1),\n ('rutrum,', 2),\n ('dictum.', 1),\n ('euismod,', 1),\n ('mattis,', 2),\n ('suscipit.', 2),\n ('turpis,', 1),\n ('auctor,', 1),\n ('dolor', 18),\n ('sit', 62),\n ('amet,', 12),\n ('adipiscing', 7),\n ('tempor', 14),\n ('tortor.', 14),\n ('Suspendisse', 25),\n ('nec', 47),\n ('ultrices', 17),\n ('Etiam', 29),\n ('non', 48),\n ('egestas', 27),\n ('mi.', 5),\n ('Nulla', 22),\n ('massa,', 6),\n ('auctor', 23),\n ('accumsan', 23),\n ('id,', 7),\n ('hendrerit', 15),\n ('enim', 17),\n ('viverra', 11),\n ('euismod', 16),\n ('risus', 22),\n ('varius.', 5),\n ('luctus', 26),\n ('cursus,', 4),\n ('eros', 22),\n ('tortor', 21),\n ('nulla,', 7),\n ('volutpat', 23),\n ('dui', 20),\n ('blandit', 12),\n ('at,', 5),\n ('nulla.', 9),\n ('vestibulum', 16),\n ('purus,', 2),\n ('semper', 14),\n ('quam,', 2),\n ('sem.', 4),\n ('Praesent', 29),\n ('efficitur', 12),\n ('dignissim', 19),\n ('erat,', 4),\n ('pharetra', 23),\n ('consequat', 19),\n ('Phasellus', 23),\n ('tincidunt,', 6),\n ('sem,', 3),\n ('mauris', 18),\n ('massa', 19),\n ('ligula', 16),\n ('gravida', 20),\n ('nisl.', 5),\n ('aliquet', 11),\n ('Mauris', 24),\n ('odio.', 4),\n ('vel', 58),\n ('arcu', 18),\n ('penatibus', 2),\n ('magnis', 2),\n ('parturient', 2),\n ('montes,', 2),\n ('ridiculus', 2),\n ('velit', 28),\n ('vestibulum,', 2),\n ('faucibus.', 6),\n ('nisl', 19),\n ('facilisis', 14),\n ('ultrices,', 1),\n ('ante,', 7),\n ('platea', 4),\n ('nibh,', 9),\n ('vel.', 6),\n ('orci', 15),\n ('tincidunt', 38),\n ('orci.', 12),\n ('Integer', 18),\n ('placerat', 16),\n ('tristique', 19),\n ('pulvinar', 15),\n ('in.', 6),\n ('elementum', 18),\n ('pretium', 17),\n ('libero.', 15),\n ('leo.', 6),\n ('neque', 23),\n ('molestie.', 5),\n ('metus,', 4),\n ('sagittis.', 5),\n ('posuere', 13),\n ('laoreet', 12),\n ('Fusce', 17),\n ('elit', 25),\n ('nec,', 5),\n ('imperdiet', 18),\n ('Nullam', 21),\n ('turpis', 35),\n ('aliquam', 12),\n ('dignissim,', 3),\n ('nisl,', 4),\n ('fames', 11),\n ('ultrices.', 2),\n ('sem', 21),\n ('eleifend', 20),\n ('nisi.', 7),\n ('magna,', 5),\n ('non.', 4),\n ('tempus', 13),\n ('urna.', 8),\n ('porta', 17),\n ('dolor.', 7),\n ('Curabitur', 16),\n ('ultricies', 14),\n ('euismod.', 2),\n ('placerat.', 2),\n ('turpis.', 6),\n ('egestas.', 11),\n ('eu,', 5),\n ('magna.', 3),\n ('malesuada.', 2),\n ('eros.', 9),\n ('mattis.', 3),\n ('Morbi', 23),\n ('felis,', 3),\n ('diam.', 6),\n ('hendrerit,', 7),\n ('lacus,', 10),\n ('facilisis,', 2),\n ('velit.', 6),\n ('nunc,', 3),\n ('id.', 2),\n ('est.', 3),\n ('morbi', 8),\n ('senectus', 8),\n ('netus', 8),\n ('vestibulum.', 5),\n ('gravida,', 1),\n ('hendrerit.', 2),\n ('aliquam.', 2),\n ('maximus.', 2),\n ('lectus.', 10),\n ('odio,', 4),\n ('semper.', 3),\n ('risus.', 4),\n ('in,', 2),\n ('finibus.', 2),\n ('lorem', 18),\n ('libero', 24),\n ('justo,', 5),\n ('neque,', 3),\n ('risus,', 3),\n ('nec.', 3),\n ('ullamcorper,', 1),\n ('consectetur,', 3),\n ('rhoncus.', 5),\n ('vitae.', 1),\n ('tellus.', 7),\n ('elit,', 6),\n ('quis,', 5),\n ('laoreet.', 8),\n ('lobortis.', 2),\n ('consectetur.', 6),\n ('vehicula', 21),\n ('tortor,', 5),\n ('fermentum.', 2),\n ('efficitur.', 1),\n ('aptent', 6),\n ('taciti', 6),\n ('sociosqu', 6),\n ('torquent', 6),\n ('per', 12),\n ('himenaeos.', 6),\n ('arcu,', 3),\n ('eu.', 3),\n ('sed.', 4),\n ('porta.', 5),\n ('semper,', 3),\n ('blandit.', 5),\n ('aliquet,', 1),\n ('auctor.', 2),\n ('blandit,', 1),\n ('mollis,', 1),\n ('tempor.', 5),\n ('pellentesque.', 4),\n ('aliquam,', 1),\n ('posuere,', 2),\n ('dapibus.', 4),\n ('sagittis,', 1),\n ('urna,', 4),\n ('viverra.', 1),\n ('tristique.', 2),\n ('imperdiet.', 3),\n ('quam.', 6),\n ('vitae,', 4),\n ('porttitor.', 2),\n ('tristique,', 2),\n ('sodales,', 2),\n ('feugiat,', 2),\n ('luctus.', 2),\n ('eleifend.', 2),\n ('rhoncus,', 2),\n ('lacinia,', 1),\n ('aliquet.', 2),\n ('tempus.', 1),\n ('metus.', 2),\n ('vehicula.', 2),\n ('pretium,', 2),\n ('iaculis,', 1),\n ('maximus,', 2),\n ('efficitur,', 3),\n ('ullamcorper.', 2),\n ('finibus,', 1),\n ('vehicula,', 1),\n ('arcu.', 3),\n ('dictum,', 1),\n ('porttitor,', 1)]"
     },
     "execution_count": 10,
     "metadata": {},
     "output_type": "execute_result"
    }
   ],
   "source": [
    "phase_fore = phase_three.map(lambda x:(x[0],len(x[1])))\n",
    "phase_fore.collect()"
   ]
  },
  {
   "cell_type": "code",
   "execution_count": 12,
   "metadata": {
    "pycharm": {
     "name": "#%%\n"
    }
   },
   "outputs": [
    {
     "data": {
      "text/plain": "[('vulputate,', 1),\n ('enim,', 1),\n ('condimentum.', 1),\n ('venenatis,', 1),\n ('placerat,', 1),\n ('egestas,', 1),\n ('tempus,', 1),\n ('luctus,', 1),\n ('orci,', 1),\n ('eleifend,', 1),\n ('viverra,', 1),\n ('dictum.', 1),\n ('euismod,', 1),\n ('turpis,', 1),\n ('auctor,', 1),\n ('ultrices,', 1),\n ('gravida,', 1),\n ('ullamcorper,', 1),\n ('vitae.', 1),\n ('efficitur.', 1),\n ('aliquet,', 1),\n ('blandit,', 1),\n ('mollis,', 1),\n ('aliquam,', 1),\n ('sagittis,', 1),\n ('viverra.', 1),\n ('lacinia,', 1),\n ('tempus.', 1),\n ('iaculis,', 1),\n ('finibus,', 1),\n ('vehicula,', 1),\n ('dictum,', 1),\n ('porttitor,', 1),\n ('elementum.', 2),\n ('ultricies,', 2),\n ('Orci', 2),\n ('natoque', 2),\n ('dis', 2),\n ('nascetur', 2),\n ('mus.', 2),\n ('molestie,', 2),\n ('lobortis,', 2),\n ('congue.', 2),\n ('congue,', 2),\n ('lacinia.', 2),\n ('ex,', 2),\n ('cubilia', 2),\n ('curae;', 2),\n ('facilisis.', 2),\n ('condimentum,', 2),\n ('ligula,', 2),\n ('vel,', 2),\n ('ultricies.', 2),\n ('commodo.', 2),\n ('accumsan,', 2),\n ('faucibus,', 2),\n ('ornare,', 2),\n ('convallis,', 2),\n ('pharetra,', 2),\n ('ornare.', 2),\n ('gravida.', 2),\n ('vulputate.', 2),\n ('quis.', 2),\n ('rutrum,', 2),\n ('mattis,', 2),\n ('suscipit.', 2),\n ('purus,', 2),\n ('quam,', 2),\n ('penatibus', 2),\n ('magnis', 2),\n ('parturient', 2),\n ('montes,', 2),\n ('ridiculus', 2),\n ('vestibulum,', 2),\n ('ultrices.', 2),\n ('euismod.', 2),\n ('placerat.', 2),\n ('malesuada.', 2),\n ('facilisis,', 2),\n ('id.', 2),\n ('hendrerit.', 2),\n ('aliquam.', 2),\n ('maximus.', 2),\n ('in,', 2),\n ('finibus.', 2),\n ('lobortis.', 2),\n ('fermentum.', 2),\n ('auctor.', 2),\n ('posuere,', 2),\n ('tristique.', 2),\n ('porttitor.', 2),\n ('tristique,', 2),\n ('sodales,', 2),\n ('feugiat,', 2),\n ('luctus.', 2),\n ('eleifend.', 2),\n ('rhoncus,', 2),\n ('aliquet.', 2),\n ('metus.', 2),\n ('vehicula.', 2),\n ('pretium,', 2),\n ('maximus,', 2),\n ('ullamcorper.', 2),\n ('scelerisque,', 3),\n ('malesuada,', 3),\n ('enim.', 3),\n ('cursus.', 3),\n ('libero,', 3),\n ('dignissim.', 3),\n ('eros,', 3),\n ('Interdum', 3),\n ('convallis.', 3),\n ('porta,', 3),\n ('facilisi.', 3),\n ('ut.', 3),\n ('pharetra.', 3),\n ('interdum.', 3),\n ('scelerisque.', 3),\n ('rutrum.', 3),\n ('sodales.', 3),\n ('interdum,', 3),\n ('iaculis.', 3),\n ('bibendum,', 3),\n ('ac.', 3),\n ('felis.', 3),\n ('ut,', 3),\n ('sem,', 3),\n ('dignissim,', 3),\n ('magna.', 3),\n ('mattis.', 3),\n ('felis,', 3),\n ('nunc,', 3),\n ('est.', 3),\n ('semper.', 3),\n ('neque,', 3),\n ('risus,', 3),\n ('nec.', 3),\n ('consectetur,', 3),\n ('arcu,', 3),\n ('eu.', 3),\n ('semper,', 3),\n ('imperdiet.', 3),\n ('efficitur,', 3),\n ('arcu.', 3),\n ('tellus,', 4),\n ('mollis.', 4),\n ('feugiat.', 4),\n ('fermentum,', 4),\n ('ipsum,', 4),\n ('neque.', 4),\n ('hac', 4),\n ('habitasse', 4),\n ('dictumst.', 4),\n ('diam,', 4),\n ('ipsum.', 4),\n ('leo,', 4),\n ('lectus,', 4),\n ('volutpat,', 4),\n ('laoreet,', 4),\n ('commodo,', 4),\n ('potenti.', 4),\n ('lorem,', 4),\n ('sapien,', 4),\n ('dui,', 4),\n ('pellentesque,', 4),\n ('pulvinar.', 4),\n ('non,', 4),\n ('pretium.', 4),\n ('sed,', 4),\n ('dolor,', 4),\n ('cursus,', 4),\n ('sem.', 4),\n ('erat,', 4),\n ('odio.', 4),\n ('platea', 4),\n ('metus,', 4),\n ('nisl,', 4),\n ('non.', 4),\n ('odio,', 4),\n ('risus.', 4),\n ('sed.', 4),\n ('pellentesque.', 4),\n ('dapibus.', 4),\n ('urna,', 4),\n ('vitae,', 4),\n ('consequat.', 5),\n ('justo.', 5),\n ('at.', 5),\n ('venenatis.', 5),\n ('ante.', 5),\n ('primis', 5),\n ('fringilla,', 5),\n ('bibendum.', 5),\n ('posuere.', 5),\n ('tincidunt.', 5),\n ('volutpat.', 5),\n ('nunc.', 5),\n ('sapien.', 5),\n ('mi.', 5),\n ('varius.', 5),\n ('at,', 5),\n ('nisl.', 5),\n ('molestie.', 5),\n ('sagittis.', 5),\n ('nec,', 5),\n ('magna,', 5),\n ('eu,', 5),\n ('vestibulum.', 5),\n ('justo,', 5),\n ('rhoncus.', 5),\n ('quis,', 5),\n ('tortor,', 5),\n ('porta.', 5),\n ('blandit.', 5),\n ('tempor.', 5),\n ('et.', 6),\n ('lorem.', 6),\n ('fringilla.', 6),\n ('mi,', 6),\n ('et,', 6),\n ('Class', 6),\n ('litora', 6),\n ('conubia', 6),\n ('nostra,', 6),\n ('inceptos', 6),\n ('nibh.', 6),\n ('massa,', 6),\n ('tincidunt,', 6),\n ('faucibus.', 6),\n ('vel.', 6),\n ('in.', 6),\n ('leo.', 6),\n ('turpis.', 6),\n ('diam.', 6),\n ('velit.', 6),\n ('elit,', 6),\n ('consectetur.', 6),\n ('aptent', 6),\n ('taciti', 6),\n ('sociosqu', 6),\n ('torquent', 6),\n ('himenaeos.', 6),\n ('quam.', 6),\n ('Lorem', 7),\n ('nisi,', 7),\n ('augue,', 7),\n ('est,', 7),\n ('purus.', 7),\n ('sollicitudin.', 7),\n ('eget,', 7),\n ('adipiscing', 7),\n ('id,', 7),\n ('nulla,', 7),\n ('ante,', 7),\n ('nisi.', 7),\n ('dolor.', 7),\n ('hendrerit,', 7),\n ('tellus.', 7),\n ('eget.', 8),\n ('ac,', 8),\n ('mauris.', 8),\n ('accumsan.', 8),\n ('dui.', 8),\n ('habitant', 8),\n ('erat.', 8),\n ('urna.', 8),\n ('morbi', 8),\n ('senectus', 8),\n ('netus', 8),\n ('laoreet.', 8),\n ('ex.', 9),\n ('amet.', 9),\n ('lacus.', 9),\n ('augue.', 9),\n ('ligula.', 9),\n ('nulla.', 9),\n ('nibh,', 9),\n ('eros.', 9),\n ('velit,', 10),\n ('lacus,', 10),\n ('lectus.', 10),\n ('cursus', 11),\n ('viverra', 11),\n ('aliquet', 11),\n ('fames', 11),\n ('egestas.', 11),\n ('massa.', 12),\n ('sapien', 12),\n ('mattis', 12),\n ('suscipit', 12),\n ('amet,', 12),\n ('blandit', 12),\n ('efficitur', 12),\n ('orci.', 12),\n ('laoreet', 12),\n ('aliquam', 12),\n ('per', 12),\n ('porttitor', 13),\n ('iaculis', 13),\n ('odio', 13),\n ('Cras', 13),\n ('ornare', 13),\n ('congue', 13),\n ('posuere', 13),\n ('tempus', 13),\n ('quam', 14),\n ('dictum', 14),\n ('tempor', 14),\n ('tortor.', 14),\n ('semper', 14),\n ('facilisis', 14),\n ('ultricies', 14),\n ('elit.', 15),\n ('lobortis', 15),\n ('lacus', 15),\n ('urna', 15),\n ('sodales', 15),\n ('pellentesque', 15),\n ('hendrerit', 15),\n ('orci', 15),\n ('pulvinar', 15),\n ('libero.', 15),\n ('Duis', 16),\n ('tellus', 16),\n ('euismod', 16),\n ('vestibulum', 16),\n ('ligula', 16),\n ('placerat', 16),\n ('Curabitur', 16),\n ('Nunc', 17),\n ('fermentum', 17),\n ('scelerisque', 17),\n ('sagittis', 17),\n ('maximus', 17),\n ('interdum', 17),\n ('Vivamus', 17),\n ('condimentum', 17),\n ('sollicitudin', 17),\n ('vulputate', 17),\n ('leo', 17),\n ('felis', 17),\n ('ultrices', 17),\n ('enim', 17),\n ('pretium', 17),\n ('Fusce', 17),\n ('porta', 17),\n ('Maecenas', 18),\n ('molestie', 18),\n ('rhoncus', 18),\n ('finibus', 18),\n ('dolor', 18),\n ('mauris', 18),\n ('arcu', 18),\n ('Integer', 18),\n ('elementum', 18),\n ('imperdiet', 18),\n ('lorem', 18),\n ('purus', 19),\n ('diam', 19),\n ('dignissim', 19),\n ('consequat', 19),\n ('massa', 19),\n ('nisl', 19),\n ('tristique', 19),\n ('est', 20),\n ('magna', 20),\n ('Nam', 20),\n ('erat', 20),\n ('nisi', 20),\n ('Aenean', 20),\n ('dui', 20),\n ('gravida', 20),\n ('eleifend', 20),\n ('consectetur', 21),\n ('lectus', 21),\n ('metus', 21),\n ('commodo', 21),\n ('bibendum', 21),\n ('rutrum', 21),\n ('malesuada', 21),\n ('lacinia', 21),\n ('mollis', 21),\n ('tortor', 21),\n ('Nullam', 21),\n ('sem', 21),\n ('vehicula', 21),\n ('feugiat', 22),\n ('nibh', 22),\n ('Nulla', 22),\n ('risus', 22),\n ('eros', 22),\n ('fringilla', 23),\n ('nulla', 23),\n ('varius', 23),\n ('Proin', 23),\n ('nunc', 23),\n ('augue', 23),\n ('dapibus', 23),\n ('venenatis', 23),\n ('auctor', 23),\n ('accumsan', 23),\n ('volutpat', 23),\n ('pharetra', 23),\n ('Phasellus', 23),\n ('neque', 23),\n ('Morbi', 23),\n ('ante', 24),\n ('ullamcorper', 24),\n ('faucibus', 24),\n ('convallis', 24),\n ('Vestibulum', 24),\n ('Mauris', 24),\n ('libero', 24),\n ('Aliquam', 25),\n ('Suspendisse', 25),\n ('elit', 25),\n ('justo', 26),\n ('luctus', 26),\n ('Quisque', 27),\n ('egestas', 27),\n ('velit', 28),\n ('Etiam', 29),\n ('Praesent', 29),\n ('Pellentesque', 30),\n ('ipsum', 33),\n ('turpis', 35),\n ('Donec', 37),\n ('Sed', 38),\n ('tincidunt', 38),\n ('sed', 40),\n ('amet', 41),\n ('quis', 42),\n ('eget', 46),\n ('nec', 47),\n ('non', 48),\n ('vitae', 54),\n ('vel', 58),\n ('sit', 62)]"
     },
     "execution_count": 12,
     "metadata": {},
     "output_type": "execute_result"
    }
   ],
   "source": [
    "phase_five = phase_fore.sortBy(lambda x:x[1])\n",
    "phase_five.collect()"
   ]
  },
  {
   "cell_type": "code",
   "execution_count": 15,
   "metadata": {
    "pycharm": {
     "name": "#%%\n"
    }
   },
   "outputs": [
    {
     "data": {
      "text/plain": "[('vulputate,', 1),\n ('enim,', 1),\n ('condimentum.', 1),\n ('venenatis,', 1),\n ('placerat,', 1),\n ('egestas,', 1),\n ('tempus,', 1),\n ('luctus,', 1),\n ('orci,', 1),\n ('eleifend,', 1),\n ('viverra,', 1),\n ('dictum.', 1),\n ('euismod,', 1),\n ('turpis,', 1),\n ('auctor,', 1),\n ('ultrices,', 1),\n ('gravida,', 1),\n ('ullamcorper,', 1),\n ('vitae.', 1),\n ('efficitur.', 1),\n ('aliquet,', 1),\n ('blandit,', 1),\n ('mollis,', 1),\n ('aliquam,', 1),\n ('sagittis,', 1),\n ('viverra.', 1),\n ('lacinia,', 1),\n ('tempus.', 1),\n ('iaculis,', 1),\n ('finibus,', 1),\n ('vehicula,', 1),\n ('dictum,', 1),\n ('porttitor,', 1),\n ('elementum.', 2),\n ('ultricies,', 2),\n ('Orci', 2),\n ('natoque', 2),\n ('dis', 2),\n ('nascetur', 2),\n ('mus.', 2),\n ('molestie,', 2),\n ('lobortis,', 2),\n ('congue.', 2),\n ('congue,', 2),\n ('lacinia.', 2),\n ('ex,', 2),\n ('cubilia', 2),\n ('curae;', 2),\n ('facilisis.', 2),\n ('condimentum,', 2),\n ('ligula,', 2),\n ('vel,', 2),\n ('ultricies.', 2),\n ('commodo.', 2),\n ('accumsan,', 2),\n ('faucibus,', 2),\n ('ornare,', 2),\n ('convallis,', 2),\n ('pharetra,', 2),\n ('ornare.', 2),\n ('gravida.', 2),\n ('vulputate.', 2),\n ('quis.', 2),\n ('rutrum,', 2),\n ('mattis,', 2),\n ('suscipit.', 2),\n ('purus,', 2),\n ('quam,', 2),\n ('penatibus', 2),\n ('magnis', 2),\n ('parturient', 2),\n ('montes,', 2),\n ('ridiculus', 2),\n ('vestibulum,', 2),\n ('ultrices.', 2),\n ('euismod.', 2),\n ('placerat.', 2),\n ('malesuada.', 2),\n ('facilisis,', 2),\n ('id.', 2),\n ('hendrerit.', 2),\n ('aliquam.', 2),\n ('maximus.', 2),\n ('in,', 2),\n ('finibus.', 2),\n ('lobortis.', 2),\n ('fermentum.', 2),\n ('auctor.', 2),\n ('posuere,', 2),\n ('tristique.', 2),\n ('porttitor.', 2),\n ('tristique,', 2),\n ('sodales,', 2),\n ('feugiat,', 2),\n ('luctus.', 2),\n ('eleifend.', 2),\n ('rhoncus,', 2),\n ('aliquet.', 2),\n ('metus.', 2),\n ('vehicula.', 2),\n ('pretium,', 2),\n ('maximus,', 2),\n ('ullamcorper.', 2),\n ('scelerisque,', 3),\n ('malesuada,', 3),\n ('enim.', 3),\n ('cursus.', 3),\n ('libero,', 3),\n ('dignissim.', 3),\n ('eros,', 3),\n ('Interdum', 3),\n ('convallis.', 3),\n ('porta,', 3),\n ('facilisi.', 3),\n ('ut.', 3),\n ('pharetra.', 3),\n ('interdum.', 3),\n ('scelerisque.', 3),\n ('rutrum.', 3),\n ('sodales.', 3),\n ('interdum,', 3),\n ('iaculis.', 3),\n ('bibendum,', 3),\n ('ac.', 3),\n ('felis.', 3),\n ('ut,', 3),\n ('sem,', 3),\n ('a,', 3),\n ('dignissim,', 3),\n ('magna.', 3),\n ('mattis.', 3),\n ('felis,', 3),\n ('nunc,', 3),\n ('est.', 3),\n ('a.', 3),\n ('semper.', 3),\n ('neque,', 3),\n ('risus,', 3),\n ('nec.', 3),\n ('consectetur,', 3),\n ('arcu,', 3),\n ('eu.', 3),\n ('semper,', 3),\n ('imperdiet.', 3),\n ('efficitur,', 3),\n ('arcu.', 3),\n ('tellus,', 4),\n ('mollis.', 4),\n ('feugiat.', 4),\n ('fermentum,', 4),\n ('ipsum,', 4),\n ('neque.', 4),\n ('hac', 4),\n ('habitasse', 4),\n ('dictumst.', 4),\n ('diam,', 4),\n ('ipsum.', 4),\n ('leo,', 4),\n ('lectus,', 4),\n ('volutpat,', 4),\n ('laoreet,', 4),\n ('commodo,', 4),\n ('potenti.', 4),\n ('lorem,', 4),\n ('sapien,', 4),\n ('dui,', 4),\n ('pellentesque,', 4),\n ('pulvinar.', 4),\n ('non,', 4),\n ('pretium.', 4),\n ('sed,', 4),\n ('dolor,', 4),\n ('cursus,', 4),\n ('sem.', 4),\n ('erat,', 4),\n ('odio.', 4),\n ('platea', 4),\n ('metus,', 4),\n ('nisl,', 4),\n ('non.', 4),\n ('odio,', 4),\n ('risus.', 4),\n ('sed.', 4),\n ('pellentesque.', 4),\n ('dapibus.', 4),\n ('urna,', 4),\n ('vitae,', 4),\n ('consequat.', 5),\n ('justo.', 5),\n ('at.', 5),\n ('venenatis.', 5),\n ('ante.', 5),\n ('primis', 5),\n ('fringilla,', 5),\n ('bibendum.', 5),\n ('posuere.', 5),\n ('tincidunt.', 5),\n ('volutpat.', 5),\n ('nunc.', 5),\n ('sapien.', 5),\n ('mi.', 5),\n ('varius.', 5),\n ('at,', 5),\n ('nisl.', 5),\n ('molestie.', 5),\n ('sagittis.', 5),\n ('nec,', 5),\n ('magna,', 5),\n ('eu,', 5),\n ('vestibulum.', 5),\n ('justo,', 5),\n ('rhoncus.', 5),\n ('quis,', 5),\n ('tortor,', 5),\n ('porta.', 5),\n ('blandit.', 5),\n ('tempor.', 5),\n ('et.', 6),\n ('lorem.', 6),\n ('fringilla.', 6),\n ('mi,', 6),\n ('et,', 6),\n ('Class', 6),\n ('litora', 6),\n ('conubia', 6),\n ('nostra,', 6),\n ('inceptos', 6),\n ('nibh.', 6),\n ('massa,', 6),\n ('tincidunt,', 6),\n ('faucibus.', 6),\n ('vel.', 6),\n ('in.', 6),\n ('leo.', 6),\n ('turpis.', 6),\n ('diam.', 6),\n ('velit.', 6),\n ('elit,', 6),\n ('consectetur.', 6),\n ('aptent', 6),\n ('taciti', 6),\n ('sociosqu', 6),\n ('ad', 6),\n ('torquent', 6),\n ('himenaeos.', 6),\n ('quam.', 6),\n ('Lorem', 7),\n ('nisi,', 7),\n ('augue,', 7),\n ('est,', 7),\n ('purus.', 7),\n ('sollicitudin.', 7),\n ('eget,', 7),\n ('adipiscing', 7),\n ('id,', 7),\n ('nulla,', 7),\n ('ante,', 7),\n ('nisi.', 7),\n ('dolor.', 7),\n ('hendrerit,', 7),\n ('tellus.', 7),\n ('eget.', 8),\n ('ac,', 8),\n ('mauris.', 8),\n ('accumsan.', 8),\n ('dui.', 8),\n ('habitant', 8),\n ('erat.', 8),\n ('urna.', 8),\n ('morbi', 8),\n ('senectus', 8),\n ('netus', 8),\n ('laoreet.', 8),\n ('ex.', 9),\n ('amet.', 9),\n ('lacus.', 9),\n ('augue.', 9),\n ('ligula.', 9),\n ('nulla.', 9),\n ('nibh,', 9),\n ('eros.', 9),\n ('velit,', 10),\n ('lacus,', 10),\n ('lectus.', 10),\n ('cursus', 11),\n ('viverra', 11),\n ('aliquet', 11),\n ('fames', 11),\n ('egestas.', 11),\n ('massa.', 12),\n ('sapien', 12),\n ('mattis', 12),\n ('suscipit', 12),\n ('amet,', 12),\n ('blandit', 12),\n ('efficitur', 12),\n ('orci.', 12),\n ('laoreet', 12),\n ('aliquam', 12),\n ('per', 12),\n ('porttitor', 13),\n ('iaculis', 13),\n ('odio', 13),\n ('Cras', 13),\n ('ornare', 13),\n ('congue', 13),\n ('posuere', 13),\n ('tempus', 13),\n ('quam', 14),\n ('dictum', 14),\n ('tempor', 14),\n ('tortor.', 14),\n ('semper', 14),\n ('facilisis', 14),\n ('ultricies', 14),\n ('elit.', 15),\n ('lobortis', 15),\n ('lacus', 15),\n ('urna', 15),\n ('sodales', 15),\n ('pellentesque', 15),\n ('hendrerit', 15),\n ('orci', 15),\n ('pulvinar', 15),\n ('libero.', 15),\n ('Duis', 16),\n ('tellus', 16),\n ('ex', 16),\n ('euismod', 16),\n ('vestibulum', 16),\n ('ligula', 16),\n ('placerat', 16),\n ('Curabitur', 16),\n ('Nunc', 17),\n ('fermentum', 17),\n ('scelerisque', 17),\n ('sagittis', 17),\n ('maximus', 17),\n ('interdum', 17),\n ('Vivamus', 17),\n ('condimentum', 17),\n ('sollicitudin', 17),\n ('vulputate', 17),\n ('leo', 17),\n ('felis', 17),\n ('ultrices', 17),\n ('enim', 17),\n ('pretium', 17),\n ('Fusce', 17),\n ('porta', 17),\n ('Maecenas', 18),\n ('molestie', 18),\n ('rhoncus', 18),\n ('finibus', 18),\n ('dolor', 18),\n ('mauris', 18),\n ('arcu', 18),\n ('Integer', 18),\n ('elementum', 18),\n ('imperdiet', 18),\n ('lorem', 18),\n ('purus', 19),\n ('diam', 19),\n ('Ut', 19),\n ('dignissim', 19),\n ('consequat', 19),\n ('massa', 19),\n ('nisl', 19),\n ('tristique', 19),\n ('est', 20),\n ('magna', 20),\n ('Nam', 20),\n ('erat', 20),\n ('nisi', 20),\n ('Aenean', 20),\n ('dui', 20),\n ('gravida', 20),\n ('eleifend', 20),\n ('consectetur', 21),\n ('lectus', 21),\n ('metus', 21),\n ('commodo', 21),\n ('bibendum', 21),\n ('rutrum', 21),\n ('malesuada', 21),\n ('lacinia', 21),\n ('mollis', 21),\n ('tortor', 21),\n ('Nullam', 21),\n ('sem', 21),\n ('vehicula', 21),\n ('mi', 22),\n ('feugiat', 22),\n ('nibh', 22),\n ('Nulla', 22),\n ('risus', 22),\n ('eros', 22),\n ('fringilla', 23),\n ('nulla', 23),\n ('varius', 23),\n ('Proin', 23),\n ('nunc', 23),\n ('augue', 23),\n ('dapibus', 23),\n ('venenatis', 23),\n ('auctor', 23),\n ('accumsan', 23),\n ('volutpat', 23),\n ('pharetra', 23),\n ('Phasellus', 23),\n ('neque', 23),\n ('Morbi', 23),\n ('ante', 24),\n ('ullamcorper', 24),\n ('faucibus', 24),\n ('convallis', 24),\n ('Vestibulum', 24),\n ('In', 24),\n ('Mauris', 24),\n ('libero', 24),\n ('Aliquam', 25),\n ('Suspendisse', 25),\n ('elit', 25),\n ('justo', 26),\n ('luctus', 26),\n ('Quisque', 27),\n ('egestas', 27),\n ('velit', 28),\n ('Etiam', 29),\n ('Praesent', 29),\n ('Pellentesque', 30),\n ('ipsum', 33),\n ('turpis', 35),\n ('Donec', 37),\n ('Sed', 38),\n ('tincidunt', 38),\n ('at', 39),\n ('sed', 40),\n ('amet', 41),\n ('quis', 42),\n ('a', 45),\n ('eget', 46),\n ('nec', 47),\n ('non', 48),\n ('in', 49),\n ('vitae', 54),\n ('ut', 56),\n ('vel', 58),\n ('eu', 60),\n ('sit', 62),\n ('id', 66),\n ('ac', 69),\n ('et', 85)]"
     },
     "execution_count": 15,
     "metadata": {},
     "output_type": "execute_result"
    }
   ],
   "source": [
    "easy_solution = (\n",
    "    rdd_set\n",
    "    .flatMap(lambda x: x.split(\" \"))\n",
    "    .map(lambda x: (x, 1))\n",
    "    .reduceByKey(lambda x, y: x + y)\n",
    "    .sortBy(lambda x:x[1])\n",
    ")\n",
    "easy_solution.collect()"
   ]
  },
  {
   "cell_type": "code",
   "execution_count": 17,
   "metadata": {
    "pycharm": {
     "name": "#%%\n"
    }
   },
   "outputs": [],
   "source": [
    "phase_five.saveAsTextFile(\"./output\")"
   ]
  },
  {
   "cell_type": "code",
   "execution_count": 50,
   "metadata": {
    "pycharm": {
     "name": "#%%\n"
    }
   },
   "outputs": [
    {
     "data": {
      "text/plain": [
       "[('vulputate,', 1),\n",
       " ('enim,', 1),\n",
       " ('condimentum.', 1),\n",
       " ('venenatis,', 1),\n",
       " ('placerat,', 1),\n",
       " ('egestas,', 1),\n",
       " ('tempus,', 1),\n",
       " ('luctus,', 1),\n",
       " ('orci,', 1),\n",
       " ('eleifend,', 1)]"
      ]
     },
     "execution_count": 50,
     "metadata": {},
     "output_type": "execute_result"
    }
   ],
   "source": [
    "phase_five.take(10)"
   ]
  },
  {
   "cell_type": "code",
   "execution_count": 53,
   "metadata": {
    "pycharm": {
     "name": "#%%\n"
    }
   },
   "outputs": [
    {
     "data": {
      "text/plain": [
       "defaultdict(int,\n",
       "            {'Lorem': 7,\n",
       "             'ipsum': 33,\n",
       "             'dolor': 18,\n",
       "             'sit': 62,\n",
       "             'amet,': 12,\n",
       "             'consectetur': 21,\n",
       "             'adipiscing': 7,\n",
       "             'elit.': 15,\n",
       "             'Nunc': 17,\n",
       "             'vitae': 54,\n",
       "             'tempor': 14,\n",
       "             'tortor.': 14,\n",
       "             'Suspendisse': 25,\n",
       "             'nec': 47,\n",
       "             'ultrices': 17,\n",
       "             'ex.': 9,\n",
       "             'Etiam': 29,\n",
       "             'non': 48,\n",
       "             'egestas': 27,\n",
       "             'mi.': 5,\n",
       "             'Nulla': 22,\n",
       "             'massa,': 6,\n",
       "             'auctor': 23,\n",
       "             'et': 85,\n",
       "             'accumsan': 23,\n",
       "             'id,': 7,\n",
       "             'fringilla': 23,\n",
       "             'in': 49,\n",
       "             'hendrerit': 15,\n",
       "             'lectus': 21,\n",
       "             'enim': 17,\n",
       "             'fermentum': 17,\n",
       "             'consequat.': 5,\n",
       "             'Maecenas': 18,\n",
       "             'ac': 69,\n",
       "             'metus': 21,\n",
       "             'eget': 46,\n",
       "             'nulla': 23,\n",
       "             'viverra': 11,\n",
       "             'elementum.': 2,\n",
       "             'euismod': 16,\n",
       "             'risus': 22,\n",
       "             'id': 66,\n",
       "             'varius.': 5,\n",
       "             'Sed': 38,\n",
       "             'scelerisque,': 3,\n",
       "             'justo': 26,\n",
       "             'luctus': 26,\n",
       "             'cursus,': 4,\n",
       "             'eros': 22,\n",
       "             'tortor': 21,\n",
       "             'commodo': 21,\n",
       "             'nulla,': 7,\n",
       "             'volutpat': 23,\n",
       "             'mi': 22,\n",
       "             'ante': 24,\n",
       "             'justo.': 5,\n",
       "             '': 54,\n",
       "             'Duis': 16,\n",
       "             'dui': 20,\n",
       "             'tellus,': 4,\n",
       "             'blandit': 12,\n",
       "             'at,': 5,\n",
       "             'bibendum': 21,\n",
       "             'porttitor': 13,\n",
       "             'nulla.': 9,\n",
       "             'Ut': 19,\n",
       "             'vestibulum': 16,\n",
       "             'purus': 19,\n",
       "             'purus,': 2,\n",
       "             'semper': 14,\n",
       "             'at.': 5,\n",
       "             'molestie': 18,\n",
       "             'quam,': 2,\n",
       "             'ullamcorper': 24,\n",
       "             'lobortis': 15,\n",
       "             'amet.': 9,\n",
       "             'Donec': 37,\n",
       "             'est': 20,\n",
       "             'ut': 56,\n",
       "             'faucibus': 24,\n",
       "             'eu': 60,\n",
       "             'sem.': 4,\n",
       "             'Praesent': 29,\n",
       "             'efficitur': 12,\n",
       "             'dignissim': 19,\n",
       "             'erat,': 4,\n",
       "             'amet': 41,\n",
       "             'rutrum': 21,\n",
       "             'pharetra': 23,\n",
       "             'consequat': 19,\n",
       "             'lacus.': 9,\n",
       "             'Phasellus': 23,\n",
       "             'tincidunt,': 6,\n",
       "             'iaculis': 13,\n",
       "             'malesuada,': 3,\n",
       "             'magna': 20,\n",
       "             'sem,': 3,\n",
       "             'mauris': 18,\n",
       "             'massa': 19,\n",
       "             'malesuada': 21,\n",
       "             'enim.': 3,\n",
       "             'augue.': 9,\n",
       "             'In': 24,\n",
       "             'ligula': 16,\n",
       "             'ultricies,': 2,\n",
       "             'gravida': 20,\n",
       "             'quam': 14,\n",
       "             'varius': 23,\n",
       "             'massa.': 12,\n",
       "             'Quisque': 27,\n",
       "             'scelerisque': 17,\n",
       "             'nisl.': 5,\n",
       "             'Proin': 23,\n",
       "             'aliquet': 11,\n",
       "             'cursus.': 3,\n",
       "             'Mauris': 24,\n",
       "             'sagittis': 17,\n",
       "             'odio.': 4,\n",
       "             'nunc': 23,\n",
       "             'velit,': 10,\n",
       "             'lacinia': 21,\n",
       "             'vel': 58,\n",
       "             'arcu': 18,\n",
       "             'ligula.': 9,\n",
       "             'at': 39,\n",
       "             'augue': 23,\n",
       "             'Orci': 2,\n",
       "             'natoque': 2,\n",
       "             'penatibus': 2,\n",
       "             'magnis': 2,\n",
       "             'dis': 2,\n",
       "             'parturient': 2,\n",
       "             'montes,': 2,\n",
       "             'nascetur': 2,\n",
       "             'ridiculus': 2,\n",
       "             'mus.': 2,\n",
       "             'Nam': 20,\n",
       "             'velit': 28,\n",
       "             'a': 45,\n",
       "             'sapien': 12,\n",
       "             'vestibulum,': 2,\n",
       "             'mollis': 21,\n",
       "             'faucibus.': 6,\n",
       "             'nisl': 19,\n",
       "             'convallis': 24,\n",
       "             'mollis.': 4,\n",
       "             'facilisis': 14,\n",
       "             'diam': 19,\n",
       "             'tellus': 16,\n",
       "             'feugiat.': 4,\n",
       "             'Pellentesque': 30,\n",
       "             'ultrices,': 1,\n",
       "             'feugiat': 22,\n",
       "             'vulputate,': 1,\n",
       "             'erat': 20,\n",
       "             'ante,': 7,\n",
       "             'mattis': 12,\n",
       "             'libero,': 3,\n",
       "             'odio': 13,\n",
       "             'Cras': 13,\n",
       "             'fermentum,': 4,\n",
       "             'molestie,': 2,\n",
       "             'nibh': 22,\n",
       "             'maximus': 17,\n",
       "             'ipsum,': 4,\n",
       "             'lacus': 15,\n",
       "             'neque.': 4,\n",
       "             'hac': 4,\n",
       "             'habitasse': 4,\n",
       "             'platea': 4,\n",
       "             'dictumst.': 4,\n",
       "             'interdum': 17,\n",
       "             'nibh,': 9,\n",
       "             'vel.': 6,\n",
       "             'quis': 42,\n",
       "             'orci': 15,\n",
       "             'venenatis.': 5,\n",
       "             'sed': 40,\n",
       "             'tincidunt': 38,\n",
       "             'rhoncus': 18,\n",
       "             'orci.': 12,\n",
       "             'Integer': 18,\n",
       "             'placerat': 16,\n",
       "             'nisi': 20,\n",
       "             'tristique': 19,\n",
       "             'dignissim.': 3,\n",
       "             'Vestibulum': 24,\n",
       "             'eros,': 3,\n",
       "             'pulvinar': 15,\n",
       "             'in.': 6,\n",
       "             'Vivamus': 17,\n",
       "             'condimentum': 17,\n",
       "             'sollicitudin': 17,\n",
       "             'elementum': 18,\n",
       "             'nisi,': 7,\n",
       "             'ornare': 13,\n",
       "             'eget.': 8,\n",
       "             'diam,': 4,\n",
       "             'pretium': 17,\n",
       "             'libero.': 15,\n",
       "             'Aenean': 20,\n",
       "             'augue,': 7,\n",
       "             'a,': 3,\n",
       "             'leo.': 6,\n",
       "             'neque': 23,\n",
       "             'molestie.': 5,\n",
       "             'ipsum.': 4,\n",
       "             'metus,': 4,\n",
       "             'et.': 6,\n",
       "             'dapibus': 23,\n",
       "             'sagittis.': 5,\n",
       "             'finibus': 18,\n",
       "             'est,': 7,\n",
       "             'enim,': 1,\n",
       "             'posuere': 13,\n",
       "             'ac,': 8,\n",
       "             'laoreet': 12,\n",
       "             'purus.': 7,\n",
       "             'Fusce': 17,\n",
       "             'elit': 25,\n",
       "             'leo,': 4,\n",
       "             'nec,': 5,\n",
       "             'imperdiet': 18,\n",
       "             'Nullam': 21,\n",
       "             'turpis': 35,\n",
       "             'aliquam': 12,\n",
       "             'vulputate': 17,\n",
       "             'dignissim,': 3,\n",
       "             'ante.': 5,\n",
       "             'nisl,': 4,\n",
       "             'Interdum': 3,\n",
       "             'fames': 11,\n",
       "             'primis': 5,\n",
       "             'urna': 15,\n",
       "             'fringilla,': 5,\n",
       "             'ultrices.': 2,\n",
       "             'lobortis,': 2,\n",
       "             'ex': 16,\n",
       "             'sem': 21,\n",
       "             'eleifend': 20,\n",
       "             'lectus,': 4,\n",
       "             'nisi.': 7,\n",
       "             'congue.': 2,\n",
       "             'bibendum.': 5,\n",
       "             'magna,': 5,\n",
       "             'non.': 4,\n",
       "             'tempus': 13,\n",
       "             'urna.': 8,\n",
       "             'leo': 17,\n",
       "             'volutpat,': 4,\n",
       "             'porta': 17,\n",
       "             'dolor.': 7,\n",
       "             'convallis.': 3,\n",
       "             'Curabitur': 16,\n",
       "             'ultricies': 14,\n",
       "             'euismod.': 2,\n",
       "             'Aliquam': 25,\n",
       "             'placerat.': 2,\n",
       "             'suscipit': 12,\n",
       "             'turpis.': 6,\n",
       "             'egestas.': 11,\n",
       "             'venenatis': 23,\n",
       "             'lorem.': 6,\n",
       "             'congue,': 2,\n",
       "             'sodales': 15,\n",
       "             'eu,': 5,\n",
       "             'magna.': 3,\n",
       "             'malesuada.': 2,\n",
       "             'porta,': 3,\n",
       "             'sollicitudin.': 7,\n",
       "             'laoreet,': 4,\n",
       "             'mauris.': 8,\n",
       "             'felis': 17,\n",
       "             'eros.': 9,\n",
       "             'mattis.': 3,\n",
       "             'Morbi': 23,\n",
       "             'accumsan.': 8,\n",
       "             'fringilla.': 6,\n",
       "             'felis,': 3,\n",
       "             'diam.': 6,\n",
       "             'hendrerit,': 7,\n",
       "             'commodo,': 4,\n",
       "             'lacus,': 10,\n",
       "             'lacinia.': 2,\n",
       "             'facilisis,': 2,\n",
       "             'velit.': 6,\n",
       "             'dui.': 8,\n",
       "             'potenti.': 4,\n",
       "             'facilisi.': 3,\n",
       "             'nunc,': 3,\n",
       "             'id.': 2,\n",
       "             'ex,': 2,\n",
       "             'est.': 3,\n",
       "             'cubilia': 2,\n",
       "             'curae;': 2,\n",
       "             'habitant': 8,\n",
       "             'morbi': 8,\n",
       "             'senectus': 8,\n",
       "             'netus': 8,\n",
       "             'facilisis.': 2,\n",
       "             'lorem,': 4,\n",
       "             'congue': 13,\n",
       "             'condimentum.': 1,\n",
       "             'vestibulum.': 5,\n",
       "             'dictum': 14,\n",
       "             'gravida,': 1,\n",
       "             'hendrerit.': 2,\n",
       "             'aliquam.': 2,\n",
       "             'condimentum,': 2,\n",
       "             'maximus.': 2,\n",
       "             'sapien,': 4,\n",
       "             'a.': 3,\n",
       "             'dui,': 4,\n",
       "             'ut.': 3,\n",
       "             'mi,': 6,\n",
       "             'lectus.': 10,\n",
       "             'pellentesque,': 4,\n",
       "             'et,': 6,\n",
       "             'odio,': 4,\n",
       "             'pharetra.': 3,\n",
       "             'semper.': 3,\n",
       "             'risus.': 4,\n",
       "             'in,': 2,\n",
       "             'finibus.': 2,\n",
       "             'lorem': 18,\n",
       "             'pellentesque': 15,\n",
       "             'interdum.': 3,\n",
       "             'pulvinar.': 4,\n",
       "             'libero': 24,\n",
       "             'scelerisque.': 3,\n",
       "             'justo,': 5,\n",
       "             'venenatis,': 1,\n",
       "             'placerat,': 1,\n",
       "             'neque,': 3,\n",
       "             'risus,': 3,\n",
       "             'nec.': 3,\n",
       "             'eget,': 7,\n",
       "             'ullamcorper,': 1,\n",
       "             'consectetur,': 3,\n",
       "             'rhoncus.': 5,\n",
       "             'posuere.': 5,\n",
       "             'vitae.': 1,\n",
       "             'ligula,': 2,\n",
       "             'vel,': 2,\n",
       "             'tellus.': 7,\n",
       "             'elit,': 6,\n",
       "             'quis,': 5,\n",
       "             'laoreet.': 8,\n",
       "             'lobortis.': 2,\n",
       "             'tincidunt.': 5,\n",
       "             'consectetur.': 6,\n",
       "             'vehicula': 21,\n",
       "             'ultricies.': 2,\n",
       "             'volutpat.': 5,\n",
       "             'tortor,': 5,\n",
       "             'fermentum.': 2,\n",
       "             'efficitur.': 1,\n",
       "             'non,': 4,\n",
       "             'Class': 6,\n",
       "             'aptent': 6,\n",
       "             'taciti': 6,\n",
       "             'sociosqu': 6,\n",
       "             'ad': 6,\n",
       "             'litora': 6,\n",
       "             'torquent': 6,\n",
       "             'per': 12,\n",
       "             'conubia': 6,\n",
       "             'nostra,': 6,\n",
       "             'inceptos': 6,\n",
       "             'himenaeos.': 6,\n",
       "             'arcu,': 3,\n",
       "             'eu.': 3,\n",
       "             'cursus': 11,\n",
       "             'sed.': 4,\n",
       "             'porta.': 5,\n",
       "             'rutrum.': 3,\n",
       "             'sodales.': 3,\n",
       "             'semper,': 3,\n",
       "             'blandit.': 5,\n",
       "             'aliquet,': 1,\n",
       "             'nibh.': 6,\n",
       "             'auctor.': 2,\n",
       "             'commodo.': 2,\n",
       "             'blandit,': 1,\n",
       "             'mollis,': 1,\n",
       "             'accumsan,': 2,\n",
       "             'tempor.': 5,\n",
       "             'pellentesque.': 4,\n",
       "             'nunc.': 5,\n",
       "             'interdum,': 3,\n",
       "             'egestas,': 1,\n",
       "             'faucibus,': 2,\n",
       "             'aliquam,': 1,\n",
       "             'posuere,': 2,\n",
       "             'pretium.': 4,\n",
       "             'tempus,': 1,\n",
       "             'dapibus.': 4,\n",
       "             'erat.': 8,\n",
       "             'luctus,': 1,\n",
       "             'sed,': 4,\n",
       "             'ornare,': 2,\n",
       "             'iaculis.': 3,\n",
       "             'sagittis,': 1,\n",
       "             'urna,': 4,\n",
       "             'viverra.': 1,\n",
       "             'convallis,': 2,\n",
       "             'tristique.': 2,\n",
       "             'imperdiet.': 3,\n",
       "             'quam.': 6,\n",
       "             'sapien.': 5,\n",
       "             'vitae,': 4,\n",
       "             'porttitor.': 2,\n",
       "             'pharetra,': 2,\n",
       "             'ornare.': 2,\n",
       "             'tristique,': 2,\n",
       "             'gravida.': 2,\n",
       "             'orci,': 1,\n",
       "             'bibendum,': 3,\n",
       "             'ac.': 3,\n",
       "             'sodales,': 2,\n",
       "             'feugiat,': 2,\n",
       "             'luctus.': 2,\n",
       "             'eleifend.': 2,\n",
       "             'rhoncus,': 2,\n",
       "             'lacinia,': 1,\n",
       "             'vulputate.': 2,\n",
       "             'aliquet.': 2,\n",
       "             'tempus.': 1,\n",
       "             'metus.': 2,\n",
       "             'felis.': 3,\n",
       "             'ut,': 3,\n",
       "             'quis.': 2,\n",
       "             'eleifend,': 1,\n",
       "             'vehicula.': 2,\n",
       "             'dolor,': 4,\n",
       "             'viverra,': 1,\n",
       "             'pretium,': 2,\n",
       "             'iaculis,': 1,\n",
       "             'rutrum,': 2,\n",
       "             'maximus,': 2,\n",
       "             'dictum.': 1,\n",
       "             'euismod,': 1,\n",
       "             'efficitur,': 3,\n",
       "             'ullamcorper.': 2,\n",
       "             'mattis,': 2,\n",
       "             'finibus,': 1,\n",
       "             'vehicula,': 1,\n",
       "             'arcu.': 3,\n",
       "             'dictum,': 1,\n",
       "             'suscipit.': 2,\n",
       "             'turpis,': 1,\n",
       "             'porttitor,': 1,\n",
       "             'auctor,': 1})"
      ]
     },
     "execution_count": 53,
     "metadata": {},
     "output_type": "execute_result"
    }
   ],
   "source": [
    "phase_two.countByKey()"
   ]
  },
  {
   "cell_type": "code",
   "execution_count": 55,
   "metadata": {
    "pycharm": {
     "name": "#%%\n"
    }
   },
   "outputs": [
    {
     "data": {
      "text/plain": [
       "454"
      ]
     },
     "execution_count": 55,
     "metadata": {},
     "output_type": "execute_result"
    }
   ],
   "source": [
    "accum_counter = session.sparkContext.accumulator(0)"
   ]
  },
  {
   "cell_type": "code",
   "execution_count": 58,
   "metadata": {
    "pycharm": {
     "name": "#%%\n"
    }
   },
   "outputs": [
    {
     "data": {
      "text/plain": [
       "1816"
      ]
     },
     "execution_count": 58,
     "metadata": {},
     "output_type": "execute_result"
    }
   ],
   "source": [
    "def add_to(x):\n",
    "    accum_counter.add(1)\n",
    "phase_five.foreach(add_to)\n",
    "accum_counter.value"
   ]
  },
  {
   "cell_type": "code",
   "execution_count": 68,
   "metadata": {
    "pycharm": {
     "name": "#%%\n"
    }
   },
   "outputs": [
    {
     "data": {
      "text/plain": [
       "1816"
      ]
     },
     "execution_count": 68,
     "metadata": {},
     "output_type": "execute_result"
    }
   ],
   "source": [
    "def add_to(x):\n",
    "    accum_counter.add(1)\n",
    "phase_five.map(add_to)\n",
    "accum_counter.value"
   ]
  },
  {
   "cell_type": "code",
   "execution_count": 18,
   "metadata": {
    "pycharm": {
     "name": "#%%\n"
    }
   },
   "outputs": [],
   "source": [
    "session.stop()"
   ]
  }
 ],
 "metadata": {
  "kernelspec": {
   "display_name": "Python 3 (ipykernel)",
   "language": "python",
   "name": "python3"
  },
  "language_info": {
   "codemirror_mode": {
    "name": "ipython",
    "version": 3
   },
   "file_extension": ".py",
   "mimetype": "text/x-python",
   "name": "python",
   "nbconvert_exporter": "python",
   "pygments_lexer": "ipython3",
   "version": "3.8.10"
  }
 },
 "nbformat": 4,
 "nbformat_minor": 1
}